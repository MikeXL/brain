{
  "nbformat": 4,
  "nbformat_minor": 0,
  "metadata": {
    "colab": {
      "name": "iris_torch.ipynb",
      "version": "0.3.2",
      "provenance": [],
      "include_colab_link": true
    },
    "kernelspec": {
      "name": "python2",
      "display_name": "Python 2"
    }
  },
  "cells": [
    {
      "cell_type": "markdown",
      "metadata": {
        "id": "view-in-github",
        "colab_type": "text"
      },
      "source": [
        "<a href=\"https://colab.research.google.com/github/MikeXL/brain/blob/master/iris_torch.ipynb\" target=\"_parent\"><img src=\"https://colab.research.google.com/assets/colab-badge.svg\" alt=\"Open In Colab\"/></a>"
      ]
    },
    {
      "metadata": {
        "id": "ca7hOMfVYNrv",
        "colab_type": "code",
        "colab": {
          "base_uri": "https://localhost:8080/",
          "height": 51
        },
        "outputId": "9609c12b-3a36-4d6c-c96c-719b028f3cba"
      },
      "cell_type": "code",
      "source": [
        "!pip install torch_nightly -f https://download.pytorch.org/whl/nightly/cu90/torch_nightly.html"
      ],
      "execution_count": 1,
      "outputs": [
        {
          "output_type": "stream",
          "text": [
            "Looking in links: https://download.pytorch.org/whl/nightly/cu90/torch_nightly.html\n",
            "Requirement already satisfied: torch_nightly in /usr/local/lib/python2.7/dist-packages (1.0.0.dev20181102)\n"
          ],
          "name": "stdout"
        }
      ]
    },
    {
      "metadata": {
        "id": "61nLzf_RYb8_",
        "colab_type": "code",
        "colab": {}
      },
      "cell_type": "code",
      "source": [
        "import torch\n",
        "import torch.nn as nn\n",
        "from torch.autograd import Variable\n",
        "\n",
        "import numpy as np\n",
        "import pandas as pd\n",
        "\n",
        "import matplotlib\n",
        "import matplotlib.pyplot as plt"
      ],
      "execution_count": 0,
      "outputs": []
    },
    {
      "metadata": {
        "id": "VVEvoJIOkt6s",
        "colab_type": "code",
        "colab": {
          "base_uri": "https://localhost:8080/",
          "height": 85
        },
        "outputId": "e9596c8c-d6aa-4a93-f62f-3c81dcf5013f"
      },
      "cell_type": "code",
      "source": [
        "print(torch.__version__)\n",
        "print(np.__version__)\n",
        "print(pd.__version__)\n",
        "print(matplotlib.__version__)"
      ],
      "execution_count": 12,
      "outputs": [
        {
          "output_type": "stream",
          "text": [
            "1.0.0.dev20181102\n",
            "1.14.6\n",
            "0.22.0\n",
            "2.1.2\n"
          ],
          "name": "stdout"
        }
      ]
    },
    {
      "metadata": {
        "id": "p2DVbJtUaMmJ",
        "colab_type": "code",
        "colab": {}
      },
      "cell_type": "code",
      "source": [
        "model = nn.Sequential(\n",
        "  nn.Linear(3,12),\n",
        "  nn.ReLU(),\n",
        "  nn.Linear(12, 3), \n",
        "  nn.Softmax(1)\n",
        ")"
      ],
      "execution_count": 0,
      "outputs": []
    },
    {
      "metadata": {
        "id": "1jGh5d7satXC",
        "colab_type": "code",
        "colab": {
          "base_uri": "https://localhost:8080/",
          "height": 119
        },
        "outputId": "c63d38de-b74d-4450-8fa9-17ae9fd24816"
      },
      "cell_type": "code",
      "source": [
        "model"
      ],
      "execution_count": 50,
      "outputs": [
        {
          "output_type": "execute_result",
          "data": {
            "text/plain": [
              "Sequential(\n",
              "  (0): Linear(in_features=3, out_features=12, bias=True)\n",
              "  (1): ReLU()\n",
              "  (2): Linear(in_features=12, out_features=3, bias=True)\n",
              "  (3): Softmax()\n",
              ")"
            ]
          },
          "metadata": {
            "tags": []
          },
          "execution_count": 50
        }
      ]
    },
    {
      "metadata": {
        "id": "qpqrrSLZat2D",
        "colab_type": "code",
        "colab": {}
      },
      "cell_type": "code",
      "source": [
        "lf = nn.CrossEntropyLoss()\n"
      ],
      "execution_count": 0,
      "outputs": []
    },
    {
      "metadata": {
        "id": "x7DPuawHbvtc",
        "colab_type": "code",
        "colab": {}
      },
      "cell_type": "code",
      "source": [
        "from sklearn import datasets\n",
        "iris = datasets.load_iris()\n",
        "wine = datasets.load_wine()"
      ],
      "execution_count": 0,
      "outputs": []
    },
    {
      "metadata": {
        "id": "misSIanudFMe",
        "colab_type": "code",
        "colab": {
          "base_uri": "https://localhost:8080/",
          "height": 102
        },
        "outputId": "fb115ff1-418b-4222-c527-4d498a035a6a"
      },
      "cell_type": "code",
      "source": [
        "iris.target[0:100]"
      ],
      "execution_count": 17,
      "outputs": [
        {
          "output_type": "execute_result",
          "data": {
            "text/plain": [
              "array([0, 0, 0, 0, 0, 0, 0, 0, 0, 0, 0, 0, 0, 0, 0, 0, 0, 0, 0, 0, 0, 0,\n",
              "       0, 0, 0, 0, 0, 0, 0, 0, 0, 0, 0, 0, 0, 0, 0, 0, 0, 0, 0, 0, 0, 0,\n",
              "       0, 0, 0, 0, 0, 0, 1, 1, 1, 1, 1, 1, 1, 1, 1, 1, 1, 1, 1, 1, 1, 1,\n",
              "       1, 1, 1, 1, 1, 1, 1, 1, 1, 1, 1, 1, 1, 1, 1, 1, 1, 1, 1, 1, 1, 1,\n",
              "       1, 1, 1, 1, 1, 1, 1, 1, 1, 1, 1, 1])"
            ]
          },
          "metadata": {
            "tags": []
          },
          "execution_count": 17
        }
      ]
    },
    {
      "metadata": {
        "id": "hP4SnzX37_4z",
        "colab_type": "code",
        "colab": {
          "base_uri": "https://localhost:8080/",
          "height": 238
        },
        "outputId": "a6d0edcd-0a2d-4f88-8a01-73c68b1b17b5"
      },
      "cell_type": "code",
      "source": [
        "wine.feature_names"
      ],
      "execution_count": 86,
      "outputs": [
        {
          "output_type": "execute_result",
          "data": {
            "text/plain": [
              "['alcohol',\n",
              " 'malic_acid',\n",
              " 'ash',\n",
              " 'alcalinity_of_ash',\n",
              " 'magnesium',\n",
              " 'total_phenols',\n",
              " 'flavanoids',\n",
              " 'nonflavanoid_phenols',\n",
              " 'proanthocyanins',\n",
              " 'color_intensity',\n",
              " 'hue',\n",
              " 'od280/od315_of_diluted_wines',\n",
              " 'proline']"
            ]
          },
          "metadata": {
            "tags": []
          },
          "execution_count": 86
        }
      ]
    },
    {
      "metadata": {
        "id": "MdRAFN6N--Db",
        "colab_type": "code",
        "colab": {
          "base_uri": "https://localhost:8080/",
          "height": 415
        },
        "outputId": "2d06ed22-6059-402b-a6a4-bf6a8e3bc927"
      },
      "cell_type": "code",
      "source": [
        "plt.hist(wine.data[:, 1])\n",
        "plt.hist(wine.data[:, 2])"
      ],
      "execution_count": 101,
      "outputs": [
        {
          "output_type": "execute_result",
          "data": {
            "text/plain": [
              "(array([ 1.,  3.,  7., 14., 43., 54., 31., 20.,  3.,  2.]),\n",
              " array([1.36 , 1.547, 1.734, 1.921, 2.108, 2.295, 2.482, 2.669, 2.856,\n",
              "        3.043, 3.23 ]),\n",
              " <a list of 10 Patch objects>)"
            ]
          },
          "metadata": {
            "tags": []
          },
          "execution_count": 101
        },
        {
          "output_type": "display_data",
          "data": {
            "image/png": "[encoded data removed]",
            "text/plain": [
              "<matplotlib.figure.Figure at 0x7f8182206910>"
            ]
          },
          "metadata": {
            "tags": []
          }
        }
      ]
    },
    {
      "metadata": {
        "id": "6mO-4QFK9Idk",
        "colab_type": "code",
        "colab": {
          "base_uri": "https://localhost:8080/",
          "height": 1088
        },
        "outputId": "b6c8c04f-025f-4db4-cb0c-56946fba4c84"
      },
      "cell_type": "code",
      "source": [
        "print(iris.DESCR)"
      ],
      "execution_count": 98,
      "outputs": [
        {
          "output_type": "stream",
          "text": [
            "Iris Plants Database\n",
            "====================\n",
            "\n",
            "Notes\n",
            "-----\n",
            "Data Set Characteristics:\n",
            "    :Number of Instances: 150 (50 in each of three classes)\n",
            "    :Number of Attributes: 4 numeric, predictive attributes and the class\n",
            "    :Attribute Information:\n",
            "        - sepal length in cm\n",
            "        - sepal width in cm\n",
            "        - petal length in cm\n",
            "        - petal width in cm\n",
            "        - class:\n",
            "                - Iris-Setosa\n",
            "                - Iris-Versicolour\n",
            "                - Iris-Virginica\n",
            "    :Summary Statistics:\n",
            "\n",
            "    ============== ==== ==== ======= ===== ====================\n",
            "                    Min  Max   Mean    SD   Class Correlation\n",
            "    ============== ==== ==== ======= ===== ====================\n",
            "    sepal length:   4.3  7.9   5.84   0.83    0.7826\n",
            "    sepal width:    2.0  4.4   3.05   0.43   -0.4194\n",
            "    petal length:   1.0  6.9   3.76   1.76    0.9490  (high!)\n",
            "    petal width:    0.1  2.5   1.20  0.76     0.9565  (high!)\n",
            "    ============== ==== ==== ======= ===== ====================\n",
            "\n",
            "    :Missing Attribute Values: None\n",
            "    :Class Distribution: 33.3% for each of 3 classes.\n",
            "    :Creator: R.A. Fisher\n",
            "    :Donor: Michael Marshall (MARSHALL%PLU@io.arc.nasa.gov)\n",
            "    :Date: July, 1988\n",
            "\n",
            "This is a copy of UCI ML iris datasets.\n",
            "http://archive.ics.uci.edu/ml/datasets/Iris\n",
            "\n",
            "The famous Iris database, first used by Sir R.A Fisher\n",
            "\n",
            "This is perhaps the best known database to be found in the\n",
            "pattern recognition literature.  Fisher's paper is a classic in the field and\n",
            "is referenced frequently to this day.  (See Duda & Hart, for example.)  The\n",
            "data set contains 3 classes of 50 instances each, where each class refers to a\n",
            "type of iris plant.  One class is linearly separable from the other 2; the\n",
            "latter are NOT linearly separable from each other.\n",
            "\n",
            "References\n",
            "----------\n",
            "   - Fisher,R.A. \"The use of multiple measurements in taxonomic problems\"\n",
            "     Annual Eugenics, 7, Part II, 179-188 (1936); also in \"Contributions to\n",
            "     Mathematical Statistics\" (John Wiley, NY, 1950).\n",
            "   - Duda,R.O., & Hart,P.E. (1973) Pattern Classification and Scene Analysis.\n",
            "     (Q327.D83) John Wiley & Sons.  ISBN 0-471-22361-1.  See page 218.\n",
            "   - Dasarathy, B.V. (1980) \"Nosing Around the Neighborhood: A New System\n",
            "     Structure and Classification Rule for Recognition in Partially Exposed\n",
            "     Environments\".  IEEE Transactions on Pattern Analysis and Machine\n",
            "     Intelligence, Vol. PAMI-2, No. 1, 67-71.\n",
            "   - Gates, G.W. (1972) \"The Reduced Nearest Neighbor Rule\".  IEEE Transactions\n",
            "     on Information Theory, May 1972, 431-433.\n",
            "   - See also: 1988 MLC Proceedings, 54-64.  Cheeseman et al\"s AUTOCLASS II\n",
            "     conceptual clustering system finds 3 classes in the data.\n",
            "   - Many, many more ...\n",
            "\n"
          ],
          "name": "stdout"
        }
      ]
    },
    {
      "metadata": {
        "id": "XsSCduFq_LnT",
        "colab_type": "code",
        "colab": {
          "base_uri": "https://localhost:8080/",
          "height": 364
        },
        "outputId": "a778bd9c-4c58-4caf-fc3e-3e2df9d0f667"
      },
      "cell_type": "code",
      "source": [
        "plt.scatter(wine.data[:, 1], wine.data[:, 2])"
      ],
      "execution_count": 102,
      "outputs": [
        {
          "output_type": "execute_result",
          "data": {
            "text/plain": [
              "<matplotlib.collections.PathCollection at 0x7f8180804110>"
            ]
          },
          "metadata": {
            "tags": []
          },
          "execution_count": 102
        },
        {
          "output_type": "display_data",
          "data": {
            "image/png": "[encoded data removed]",
            "text/plain": [
              "<matplotlib.figure.Figure at 0x7f81808b12d0>"
            ]
          },
          "metadata": {
            "tags": []
          }
        }
      ]
    },
    {
      "metadata": {
        "id": "kMS6NMm0_pXa",
        "colab_type": "code",
        "colab": {
          "base_uri": "https://localhost:8080/",
          "height": 485
        },
        "outputId": "4407a5a4-f145-4ac3-f3b4-672b35c1587c"
      },
      "cell_type": "code",
      "source": [
        "plt.boxplot(wine.data[:, 5], )"
      ],
      "execution_count": 112,
      "outputs": [
        {
          "output_type": "execute_result",
          "data": {
            "text/plain": [
              "{'boxes': [<matplotlib.lines.Line2D at 0x7f817ff59e50>],\n",
              " 'caps': [<matplotlib.lines.Line2D at 0x7f817ff65690>,\n",
              "  <matplotlib.lines.Line2D at 0x7f817ff65a50>],\n",
              " 'fliers': [<matplotlib.lines.Line2D at 0x7f817ff72210>],\n",
              " 'means': [],\n",
              " 'medians': [<matplotlib.lines.Line2D at 0x7f817ff65e10>],\n",
              " 'whiskers': [<matplotlib.lines.Line2D at 0x7f8180400950>,\n",
              "  <matplotlib.lines.Line2D at 0x7f817ff65290>]}"
            ]
          },
          "metadata": {
            "tags": []
          },
          "execution_count": 112
        },
        {
          "output_type": "display_data",
          "data": {
            "image/png": "[encoded data removed]",
            "text/plain": [
              "<matplotlib.figure.Figure at 0x7f818015b150>"
            ]
          },
          "metadata": {
            "tags": []
          }
        }
      ]
    },
    {
      "metadata": {
        "id": "DFGxW7RS9gsn",
        "colab_type": "code",
        "colab": {
          "base_uri": "https://localhost:8080/",
          "height": 1649
        },
        "outputId": "6273dc13-6b48-48fd-ea61-b1f02ff544fd"
      },
      "cell_type": "code",
      "source": [
        "print(wine.DESCR)"
      ],
      "execution_count": 97,
      "outputs": [
        {
          "output_type": "stream",
          "text": [
            "Wine Data Database\n",
            "====================\n",
            "\n",
            "Notes\n",
            "-----\n",
            "Data Set Characteristics:\n",
            "    :Number of Instances: 178 (50 in each of three classes)\n",
            "    :Number of Attributes: 13 numeric, predictive attributes and the class\n",
            "    :Attribute Information:\n",
            " \t\t- 1) Alcohol\n",
            " \t\t- 2) Malic acid\n",
            " \t\t- 3) Ash\n",
            "\t\t- 4) Alcalinity of ash  \n",
            " \t\t- 5) Magnesium\n",
            "\t\t- 6) Total phenols\n",
            " \t\t- 7) Flavanoids\n",
            " \t\t- 8) Nonflavanoid phenols\n",
            " \t\t- 9) Proanthocyanins\n",
            "\t\t- 10)Color intensity\n",
            " \t\t- 11)Hue\n",
            " \t\t- 12)OD280/OD315 of diluted wines\n",
            " \t\t- 13)Proline\n",
            "        \t- class:\n",
            "                - class_0\n",
            "                - class_1\n",
            "                - class_2\n",
            "\t\t\n",
            "    :Summary Statistics:\n",
            "    \n",
            "    ============================= ==== ===== ======= =====\n",
            "                                   Min   Max   Mean     SD\n",
            "    ============================= ==== ===== ======= =====\n",
            "    Alcohol:                      11.0  14.8    13.0   0.8\n",
            "    Malic Acid:                   0.74  5.80    2.34  1.12\n",
            "    Ash:                          1.36  3.23    2.36  0.27\n",
            "    Alcalinity of Ash:            10.6  30.0    19.5   3.3\n",
            "    Magnesium:                    70.0 162.0    99.7  14.3\n",
            "    Total Phenols:                0.98  3.88    2.29  0.63\n",
            "    Flavanoids:                   0.34  5.08    2.03  1.00\n",
            "    Nonflavanoid Phenols:         0.13  0.66    0.36  0.12\n",
            "    Proanthocyanins:              0.41  3.58    1.59  0.57\n",
            "    Colour Intensity:              1.3  13.0     5.1   2.3\n",
            "    Hue:                          0.48  1.71    0.96  0.23\n",
            "    OD280/OD315 of diluted wines: 1.27  4.00    2.61  0.71\n",
            "    Proline:                       278  1680     746   315\n",
            "    ============================= ==== ===== ======= =====\n",
            "\n",
            "    :Missing Attribute Values: None\n",
            "    :Class Distribution: class_0 (59), class_1 (71), class_2 (48)\n",
            "    :Creator: R.A. Fisher\n",
            "    :Donor: Michael Marshall (MARSHALL%PLU@io.arc.nasa.gov)\n",
            "    :Date: July, 1988\n",
            "\n",
            "This is a copy of UCI ML Wine recognition datasets.\n",
            "https://archive.ics.uci.edu/ml/machine-learning-databases/wine/wine.data\n",
            "\n",
            "The data is the results of a chemical analysis of wines grown in the same\n",
            "region in Italy by three different cultivators. There are thirteen different\n",
            "measurements taken for different constituents found in the three types of\n",
            "wine.\n",
            "\n",
            "Original Owners: \n",
            "\n",
            "Forina, M. et al, PARVUS - \n",
            "An Extendible Package for Data Exploration, Classification and Correlation. \n",
            "Institute of Pharmaceutical and Food Analysis and Technologies,\n",
            "Via Brigata Salerno, 16147 Genoa, Italy.\n",
            "\n",
            "Citation:\n",
            "\n",
            "Lichman, M. (2013). UCI Machine Learning Repository\n",
            "[http://archive.ics.uci.edu/ml]. Irvine, CA: University of California,\n",
            "School of Information and Computer Science. \n",
            "\n",
            "References\n",
            "----------\n",
            "(1) \n",
            "S. Aeberhard, D. Coomans and O. de Vel, \n",
            "Comparison of Classifiers in High Dimensional Settings, \n",
            "Tech. Rep. no. 92-02, (1992), Dept. of Computer Science and Dept. of \n",
            "Mathematics and Statistics, James Cook University of North Queensland. \n",
            "(Also submitted to Technometrics). \n",
            "\n",
            "The data was used with many others for comparing various \n",
            "classifiers. The classes are separable, though only RDA \n",
            "has achieved 100% correct classification. \n",
            "(RDA : 100%, QDA 99.4%, LDA 98.9%, 1NN 96.1% (z-transformed data)) \n",
            "(All results using the leave-one-out technique) \n",
            "\n",
            "(2) \n",
            "S. Aeberhard, D. Coomans and O. de Vel, \n",
            "\"THE CLASSIFICATION PERFORMANCE OF RDA\" \n",
            "Tech. Rep. no. 92-01, (1992), Dept. of Computer Science and Dept. of \n",
            "Mathematics and Statistics, James Cook University of North Queensland. \n",
            "(Also submitted to Journal of Chemometrics). \n",
            "\n"
          ],
          "name": "stdout"
        }
      ]
    },
    {
      "metadata": {
        "id": "QuvBXEsH8-P8",
        "colab_type": "code",
        "colab": {
          "base_uri": "https://localhost:8080/",
          "height": 570
        },
        "outputId": "0477a1c4-6c3c-4700-fa2e-87e884bb02e8"
      },
      "cell_type": "code",
      "source": [
        "plt.plot(wine.data)"
      ],
      "execution_count": 92,
      "outputs": [
        {
          "output_type": "execute_result",
          "data": {
            "text/plain": [
              "[<matplotlib.lines.Line2D at 0x7f81821b9ad0>,\n",
              " <matplotlib.lines.Line2D at 0x7f81821b9b90>,\n",
              " <matplotlib.lines.Line2D at 0x7f81821b9c50>,\n",
              " <matplotlib.lines.Line2D at 0x7f81821b9d10>,\n",
              " <matplotlib.lines.Line2D at 0x7f81821b9dd0>,\n",
              " <matplotlib.lines.Line2D at 0x7f81821b9e90>,\n",
              " <matplotlib.lines.Line2D at 0x7f81821b9f50>,\n",
              " <matplotlib.lines.Line2D at 0x7f8182147050>,\n",
              " <matplotlib.lines.Line2D at 0x7f8182147110>,\n",
              " <matplotlib.lines.Line2D at 0x7f81821471d0>,\n",
              " <matplotlib.lines.Line2D at 0x7f8182147290>,\n",
              " <matplotlib.lines.Line2D at 0x7f8182147350>,\n",
              " <matplotlib.lines.Line2D at 0x7f8182186950>]"
            ]
          },
          "metadata": {
            "tags": []
          },
          "execution_count": 92
        },
        {
          "output_type": "display_data",
          "data": {
            "image/png": "[encoded data removed]",
            "text/plain": [
              "<matplotlib.figure.Figure at 0x7f81822ab4d0>"
            ]
          },
          "metadata": {
            "tags": []
          }
        }
      ]
    },
    {
      "metadata": {
        "id": "YqGJCp9K8Yrm",
        "colab_type": "code",
        "colab": {}
      },
      "cell_type": "code",
      "source": [
        "import sklearn\n",
        "import sklearn.model_selection\n",
        "x_train, x_test, y_train, y_test = sklearn.model_selection.train_test_split(wine.data, wine.target, test_size=.3)"
      ],
      "execution_count": 0,
      "outputs": []
    },
    {
      "metadata": {
        "id": "dkW4krnGb3lL",
        "colab_type": "code",
        "colab": {}
      },
      "cell_type": "code",
      "source": [
        "def train_lbfgs(model, Y, X, optim, lf, epoch=200, lr=.01):\n",
        "    loss = [0] * epoch\n",
        "    optim = torch.optim.LBFGS(model.parameters(), lr=lr)\n",
        "    for _ in range(epoch):\n",
        "      def closure():\n",
        "        yhat = model(X)\n",
        "        optim.zero_grad()\n",
        "        l = lf(yhat, Y)\n",
        "        loss[_] = l.item()\n",
        "        l.backward()\n",
        "        return l\n",
        "      optim.step(closure)\n",
        "    return loss\n",
        "  \n",
        "\n",
        "def train(model, Y, X, optim, lf, epoch=200, lr=.1):\n",
        "  loss = [0] * epoch\n",
        "  for _ in range(epoch):\n",
        "    yhat = model(X)\n",
        "    optim.zero_grad()\n",
        "    l = lf(yhat, Y)\n",
        "    loss[_] = l.item()\n",
        "    l.backward()\n",
        "  return loss\n",
        "\n",
        "      "
      ],
      "execution_count": 0,
      "outputs": []
    },
    {
      "metadata": {
        "id": "I9ds5F07c0c_",
        "colab_type": "code",
        "colab": {}
      },
      "cell_type": "code",
      "source": [
        "model.zero_grad()\n",
        "l = train_lbfgs(model, torch.from_numpy(iris.target).long(), torch.from_numpy(iris.data[:, 1:4]).float(), optim, lf, 500, .1)   "
      ],
      "execution_count": 0,
      "outputs": []
    },
    {
      "metadata": {
        "id": "PwYZfXg-34nQ",
        "colab_type": "code",
        "colab": {
          "base_uri": "https://localhost:8080/",
          "height": 375
        },
        "outputId": "d962d8ca-e76c-464d-9047-4780476a12cb"
      },
      "cell_type": "code",
      "source": [
        "plt.plot(l)"
      ],
      "execution_count": 59,
      "outputs": [
        {
          "output_type": "execute_result",
          "data": {
            "text/plain": [
              "[<matplotlib.lines.Line2D at 0x7f8182c07d10>]"
            ]
          },
          "metadata": {
            "tags": []
          },
          "execution_count": 59
        },
        {
          "output_type": "display_data",
          "data": {
            "image/png": "[encoded data removed]",
            "text/plain": [
              "<matplotlib.figure.Figure at 0x7f8182d07c10>"
            ]
          },
          "metadata": {
            "tags": []
          }
        }
      ]
    },
    {
      "metadata": {
        "id": "38N8z76J3dOJ",
        "colab_type": "code",
        "colab": {}
      },
      "cell_type": "code",
      "source": [
        "optim = torch.optim.SGD(model.parameters(), lr=.1)\n",
        "model.zero_grad()\n",
        "l = train(model, torch.from_numpy(iris.target).long(), torch.from_numpy(iris.data[:, 0:3]).float(), optim, lf, 1000)   "
      ],
      "execution_count": 0,
      "outputs": []
    },
    {
      "metadata": {
        "id": "GID4sSMc2mMa",
        "colab_type": "code",
        "colab": {
          "base_uri": "https://localhost:8080/",
          "height": 364
        },
        "outputId": "a6454888-53eb-4849-c1b4-931862b944a2"
      },
      "cell_type": "code",
      "source": [
        "plt.plot(l)"
      ],
      "execution_count": 68,
      "outputs": [
        {
          "output_type": "execute_result",
          "data": {
            "text/plain": [
              "[<matplotlib.lines.Line2D at 0x7f8182a62ad0>]"
            ]
          },
          "metadata": {
            "tags": []
          },
          "execution_count": 68
        },
        {
          "output_type": "display_data",
          "data": {
            "image/png": "[encoded data removed]",
            "text/plain": [
              "<matplotlib.figure.Figure at 0x7f8182a989d0>"
            ]
          },
          "metadata": {
            "tags": []
          }
        }
      ]
    },
    {
      "metadata": {
        "id": "HCyfmNLsejk8",
        "colab_type": "code",
        "colab": {
          "base_uri": "https://localhost:8080/",
          "height": 34
        },
        "outputId": "8435dbde-58c1-4f54-975e-538ce4eafd7b"
      },
      "cell_type": "code",
      "source": [
        "with torch.no_grad():\n",
        "  pred = model(torch.from_numpy(iris.data[:,0:3]).float())\n",
        "  l = lf(pred, torch.from_numpy(iris.target).long())\n",
        "  \n",
        "l"
      ],
      "execution_count": 70,
      "outputs": [
        {
          "output_type": "execute_result",
          "data": {
            "text/plain": [
              "tensor(1.2226)"
            ]
          },
          "metadata": {
            "tags": []
          },
          "execution_count": 70
        }
      ]
    },
    {
      "metadata": {
        "id": "npG3_csBgfr8",
        "colab_type": "code",
        "colab": {
          "base_uri": "https://localhost:8080/",
          "height": 398
        },
        "outputId": "630cf9ca-cd0c-4b42-aa31-2a14a4462317"
      },
      "cell_type": "code",
      "source": [
        "plt.plot(pred.data.numpy())"
      ],
      "execution_count": 71,
      "outputs": [
        {
          "output_type": "execute_result",
          "data": {
            "text/plain": [
              "[<matplotlib.lines.Line2D at 0x7f8182a53f90>,\n",
              " <matplotlib.lines.Line2D at 0x7f81829af090>,\n",
              " <matplotlib.lines.Line2D at 0x7f81829af150>]"
            ]
          },
          "metadata": {
            "tags": []
          },
          "execution_count": 71
        },
        {
          "output_type": "display_data",
          "data": {
            "image/png": "[encoded data removed]",
            "text/plain": [
              "<matplotlib.figure.Figure at 0x7f8182c83490>"
            ]
          },
          "metadata": {
            "tags": []
          }
        }
      ]
    },
    {
      "metadata": {
        "id": "-exSdK3r6sPw",
        "colab_type": "code",
        "colab": {
          "base_uri": "https://localhost:8080/",
          "height": 2567
        },
        "outputId": "88c4aafb-a808-4c9d-8d9e-b220cb87ba33"
      },
      "cell_type": "code",
      "source": [
        "pred"
      ],
      "execution_count": 72,
      "outputs": [
        {
          "output_type": "execute_result",
          "data": {
            "text/plain": [
              "tensor([[1.0000e+00, 7.0858e-39, 0.0000e+00],\n",
              "        [1.0000e+00, 0.0000e+00, 0.0000e+00],\n",
              "        [1.0000e+00, 5.1828e-36, 0.0000e+00],\n",
              "        [1.0000e+00, 0.0000e+00, 0.0000e+00],\n",
              "        [1.0000e+00, 3.9254e-31, 0.0000e+00],\n",
              "        [1.0000e+00, 2.6765e-43, 0.0000e+00],\n",
              "        [1.0000e+00, 3.0680e-28, 0.0000e+00],\n",
              "        [1.0000e+00, 4.2039e-45, 0.0000e+00],\n",
              "        [1.0000e+00, 1.4013e-45, 0.0000e+00],\n",
              "        [1.0000e+00, 0.0000e+00, 0.0000e+00],\n",
              "        [1.0000e+00, 2.3402e-43, 0.0000e+00],\n",
              "        [1.0000e+00, 1.1351e-43, 0.0000e+00],\n",
              "        [1.0000e+00, 0.0000e+00, 0.0000e+00],\n",
              "        [1.0000e+00, 8.1334e-24, 0.0000e+00],\n",
              "        [1.0000e+00, 1.2904e-27, 0.0000e+00],\n",
              "        [1.0000e+00, 8.7227e-20, 0.0000e+00],\n",
              "        [1.0000e+00, 1.0777e-24, 0.0000e+00],\n",
              "        [1.0000e+00, 7.0858e-39, 0.0000e+00],\n",
              "        [1.0000e+00, 0.0000e+00, 0.0000e+00],\n",
              "        [1.0000e+00, 1.7359e-29, 0.0000e+00],\n",
              "        [1.0000e+00, 0.0000e+00, 0.0000e+00],\n",
              "        [1.0000e+00, 3.6254e-34, 0.0000e+00],\n",
              "        [2.6068e-01, 7.3932e-01, 0.0000e+00],\n",
              "        [1.0000e+00, 0.0000e+00, 0.0000e+00],\n",
              "        [1.0000e+00, 0.0000e+00, 0.0000e+00],\n",
              "        [1.0000e+00, 0.0000e+00, 0.0000e+00],\n",
              "        [1.0000e+00, 0.0000e+00, 0.0000e+00],\n",
              "        [1.0000e+00, 0.0000e+00, 0.0000e+00],\n",
              "        [1.0000e+00, 0.0000e+00, 0.0000e+00],\n",
              "        [1.0000e+00, 0.0000e+00, 0.0000e+00],\n",
              "        [1.0000e+00, 0.0000e+00, 0.0000e+00],\n",
              "        [1.0000e+00, 0.0000e+00, 0.0000e+00],\n",
              "        [1.0000e+00, 1.6472e-18, 0.0000e+00],\n",
              "        [1.0000e+00, 2.2820e-18, 0.0000e+00],\n",
              "        [1.0000e+00, 0.0000e+00, 0.0000e+00],\n",
              "        [1.0000e+00, 3.0468e-39, 0.0000e+00],\n",
              "        [1.0000e+00, 4.9045e-44, 0.0000e+00],\n",
              "        [1.0000e+00, 0.0000e+00, 0.0000e+00],\n",
              "        [1.0000e+00, 3.5008e-36, 0.0000e+00],\n",
              "        [1.0000e+00, 0.0000e+00, 0.0000e+00],\n",
              "        [1.0000e+00, 3.6737e-31, 0.0000e+00],\n",
              "        [1.0000e+00, 0.0000e+00, 0.0000e+00],\n",
              "        [1.0000e+00, 8.0265e-27, 0.0000e+00],\n",
              "        [1.0000e+00, 4.2039e-45, 0.0000e+00],\n",
              "        [1.0000e+00, 0.0000e+00, 0.0000e+00],\n",
              "        [1.0000e+00, 0.0000e+00, 0.0000e+00],\n",
              "        [1.0000e+00, 3.8739e-34, 0.0000e+00],\n",
              "        [1.0000e+00, 1.3381e-37, 0.0000e+00],\n",
              "        [1.0000e+00, 2.7083e-40, 0.0000e+00],\n",
              "        [1.0000e+00, 4.2039e-45, 0.0000e+00],\n",
              "        [1.0000e+00, 0.0000e+00, 0.0000e+00],\n",
              "        [1.0000e+00, 0.0000e+00, 0.0000e+00],\n",
              "        [1.0000e+00, 0.0000e+00, 0.0000e+00],\n",
              "        [1.0000e+00, 0.0000e+00, 0.0000e+00],\n",
              "        [1.0000e+00, 0.0000e+00, 0.0000e+00],\n",
              "        [1.0000e+00, 0.0000e+00, 0.0000e+00],\n",
              "        [1.0000e+00, 0.0000e+00, 0.0000e+00],\n",
              "        [1.0000e+00, 0.0000e+00, 0.0000e+00],\n",
              "        [1.0000e+00, 0.0000e+00, 0.0000e+00],\n",
              "        [1.0000e+00, 0.0000e+00, 0.0000e+00],\n",
              "        [1.0000e+00, 0.0000e+00, 0.0000e+00],\n",
              "        [1.0000e+00, 0.0000e+00, 0.0000e+00],\n",
              "        [1.0000e+00, 0.0000e+00, 0.0000e+00],\n",
              "        [1.0000e+00, 0.0000e+00, 0.0000e+00],\n",
              "        [1.0000e+00, 0.0000e+00, 0.0000e+00],\n",
              "        [1.0000e+00, 0.0000e+00, 0.0000e+00],\n",
              "        [1.0000e+00, 0.0000e+00, 0.0000e+00],\n",
              "        [1.0000e+00, 0.0000e+00, 0.0000e+00],\n",
              "        [1.0000e+00, 0.0000e+00, 0.0000e+00],\n",
              "        [1.0000e+00, 0.0000e+00, 0.0000e+00],\n",
              "        [1.0000e+00, 0.0000e+00, 0.0000e+00],\n",
              "        [1.0000e+00, 0.0000e+00, 0.0000e+00],\n",
              "        [1.0000e+00, 0.0000e+00, 0.0000e+00],\n",
              "        [1.0000e+00, 0.0000e+00, 0.0000e+00],\n",
              "        [1.0000e+00, 0.0000e+00, 0.0000e+00],\n",
              "        [1.0000e+00, 0.0000e+00, 0.0000e+00],\n",
              "        [1.0000e+00, 0.0000e+00, 0.0000e+00],\n",
              "        [1.0000e+00, 0.0000e+00, 0.0000e+00],\n",
              "        [1.0000e+00, 0.0000e+00, 0.0000e+00],\n",
              "        [1.0000e+00, 0.0000e+00, 0.0000e+00],\n",
              "        [1.0000e+00, 0.0000e+00, 0.0000e+00],\n",
              "        [1.0000e+00, 0.0000e+00, 0.0000e+00],\n",
              "        [1.0000e+00, 0.0000e+00, 0.0000e+00],\n",
              "        [1.0000e+00, 0.0000e+00, 0.0000e+00],\n",
              "        [1.0000e+00, 0.0000e+00, 0.0000e+00],\n",
              "        [1.0000e+00, 0.0000e+00, 0.0000e+00],\n",
              "        [1.0000e+00, 0.0000e+00, 0.0000e+00],\n",
              "        [1.0000e+00, 0.0000e+00, 0.0000e+00],\n",
              "        [1.0000e+00, 0.0000e+00, 0.0000e+00],\n",
              "        [1.0000e+00, 0.0000e+00, 0.0000e+00],\n",
              "        [1.0000e+00, 0.0000e+00, 0.0000e+00],\n",
              "        [1.0000e+00, 0.0000e+00, 0.0000e+00],\n",
              "        [1.0000e+00, 0.0000e+00, 0.0000e+00],\n",
              "        [1.0000e+00, 0.0000e+00, 0.0000e+00],\n",
              "        [1.0000e+00, 0.0000e+00, 0.0000e+00],\n",
              "        [1.0000e+00, 0.0000e+00, 0.0000e+00],\n",
              "        [1.0000e+00, 0.0000e+00, 0.0000e+00],\n",
              "        [1.0000e+00, 0.0000e+00, 0.0000e+00],\n",
              "        [1.0000e+00, 0.0000e+00, 0.0000e+00],\n",
              "        [1.0000e+00, 0.0000e+00, 0.0000e+00],\n",
              "        [1.0000e+00, 0.0000e+00, 0.0000e+00],\n",
              "        [1.0000e+00, 0.0000e+00, 0.0000e+00],\n",
              "        [1.0000e+00, 0.0000e+00, 0.0000e+00],\n",
              "        [1.0000e+00, 0.0000e+00, 0.0000e+00],\n",
              "        [1.0000e+00, 0.0000e+00, 0.0000e+00],\n",
              "        [1.0000e+00, 0.0000e+00, 0.0000e+00],\n",
              "        [1.0000e+00, 0.0000e+00, 0.0000e+00],\n",
              "        [1.0000e+00, 0.0000e+00, 0.0000e+00],\n",
              "        [1.0000e+00, 0.0000e+00, 0.0000e+00],\n",
              "        [1.0000e+00, 0.0000e+00, 0.0000e+00],\n",
              "        [1.0000e+00, 0.0000e+00, 0.0000e+00],\n",
              "        [1.0000e+00, 0.0000e+00, 0.0000e+00],\n",
              "        [1.0000e+00, 0.0000e+00, 0.0000e+00],\n",
              "        [1.0000e+00, 0.0000e+00, 0.0000e+00],\n",
              "        [1.0000e+00, 0.0000e+00, 0.0000e+00],\n",
              "        [1.0000e+00, 0.0000e+00, 0.0000e+00],\n",
              "        [1.0000e+00, 0.0000e+00, 0.0000e+00],\n",
              "        [1.0000e+00, 0.0000e+00, 0.0000e+00],\n",
              "        [1.0000e+00, 0.0000e+00, 0.0000e+00],\n",
              "        [1.0000e+00, 0.0000e+00, 0.0000e+00],\n",
              "        [1.0000e+00, 0.0000e+00, 0.0000e+00],\n",
              "        [1.0000e+00, 0.0000e+00, 0.0000e+00],\n",
              "        [1.0000e+00, 0.0000e+00, 0.0000e+00],\n",
              "        [1.0000e+00, 0.0000e+00, 0.0000e+00],\n",
              "        [1.0000e+00, 0.0000e+00, 0.0000e+00],\n",
              "        [1.0000e+00, 0.0000e+00, 0.0000e+00],\n",
              "        [1.0000e+00, 0.0000e+00, 0.0000e+00],\n",
              "        [1.0000e+00, 0.0000e+00, 0.0000e+00],\n",
              "        [1.0000e+00, 0.0000e+00, 0.0000e+00],\n",
              "        [1.0000e+00, 0.0000e+00, 0.0000e+00],\n",
              "        [1.0000e+00, 0.0000e+00, 0.0000e+00],\n",
              "        [1.0000e+00, 0.0000e+00, 0.0000e+00],\n",
              "        [1.0000e+00, 0.0000e+00, 0.0000e+00],\n",
              "        [1.0000e+00, 0.0000e+00, 0.0000e+00],\n",
              "        [1.0000e+00, 0.0000e+00, 0.0000e+00],\n",
              "        [1.0000e+00, 0.0000e+00, 0.0000e+00],\n",
              "        [1.0000e+00, 0.0000e+00, 0.0000e+00],\n",
              "        [1.0000e+00, 0.0000e+00, 0.0000e+00],\n",
              "        [1.0000e+00, 0.0000e+00, 0.0000e+00],\n",
              "        [1.0000e+00, 0.0000e+00, 0.0000e+00],\n",
              "        [1.0000e+00, 0.0000e+00, 0.0000e+00],\n",
              "        [1.0000e+00, 0.0000e+00, 0.0000e+00],\n",
              "        [1.0000e+00, 0.0000e+00, 0.0000e+00],\n",
              "        [1.0000e+00, 0.0000e+00, 0.0000e+00],\n",
              "        [1.0000e+00, 0.0000e+00, 0.0000e+00],\n",
              "        [1.0000e+00, 0.0000e+00, 0.0000e+00],\n",
              "        [1.0000e+00, 0.0000e+00, 0.0000e+00],\n",
              "        [1.0000e+00, 0.0000e+00, 0.0000e+00],\n",
              "        [1.0000e+00, 0.0000e+00, 0.0000e+00],\n",
              "        [1.0000e+00, 0.0000e+00, 0.0000e+00]])"
            ]
          },
          "metadata": {
            "tags": []
          },
          "execution_count": 72
        }
      ]
    },
    {
      "metadata": {
        "id": "wbmNdeS_ggP1",
        "colab_type": "code",
        "colab": {}
      },
      "cell_type": "code",
      "source": [
        "out=model(torch.from_numpy(iris.data[:, 0:3]).float())\n",
        "_, p = torch.max(out, 1)"
      ],
      "execution_count": 0,
      "outputs": []
    },
    {
      "metadata": {
        "id": "Bn24K95kkiLu",
        "colab_type": "code",
        "colab": {
          "base_uri": "https://localhost:8080/",
          "height": 136
        },
        "outputId": "0ecc1463-9b71-4a30-d0d4-e45bdb311ff7"
      },
      "cell_type": "code",
      "source": [
        "p"
      ],
      "execution_count": 79,
      "outputs": [
        {
          "output_type": "execute_result",
          "data": {
            "text/plain": [
              "tensor([0, 0, 0, 0, 0, 0, 0, 0, 0, 0, 0, 0, 0, 0, 0, 0, 0, 0, 0, 0, 0, 0, 1, 0,\n",
              "        0, 0, 0, 0, 0, 0, 0, 0, 0, 0, 0, 0, 0, 0, 0, 0, 0, 0, 0, 0, 0, 0, 0, 0,\n",
              "        0, 0, 0, 0, 0, 0, 0, 0, 0, 0, 0, 0, 0, 0, 0, 0, 0, 0, 0, 0, 0, 0, 0, 0,\n",
              "        0, 0, 0, 0, 0, 0, 0, 0, 0, 0, 0, 0, 0, 0, 0, 0, 0, 0, 0, 0, 0, 0, 0, 0,\n",
              "        0, 0, 0, 0, 0, 0, 0, 0, 0, 0, 0, 0, 0, 0, 0, 0, 0, 0, 0, 0, 0, 0, 0, 0,\n",
              "        0, 0, 0, 0, 0, 0, 0, 0, 0, 0, 0, 0, 0, 0, 0, 0, 0, 0, 0, 0, 0, 0, 0, 0,\n",
              "        0, 0, 0, 0, 0, 0])"
            ]
          },
          "metadata": {
            "tags": []
          },
          "execution_count": 79
        }
      ]
    },
    {
      "metadata": {
        "id": "lAgWK2pxkne9",
        "colab_type": "code",
        "colab": {
          "base_uri": "https://localhost:8080/",
          "height": 34
        },
        "outputId": "3bf2676f-537c-4f3c-bf57-fa72e7c22cb0"
      },
      "cell_type": "code",
      "source": [
        ""
      ],
      "execution_count": 77,
      "outputs": [
        {
          "output_type": "execute_result",
          "data": {
            "text/plain": [
              "<generator object parameters at 0x7f8182a1d500>"
            ]
          },
          "metadata": {
            "tags": []
          },
          "execution_count": 77
        }
      ]
    },
    {
      "metadata": {
        "id": "-hJk969a63ju",
        "colab_type": "code",
        "colab": {}
      },
      "cell_type": "code",
      "source": [
        ""
      ],
      "execution_count": 0,
      "outputs": []
    }
  ]
}