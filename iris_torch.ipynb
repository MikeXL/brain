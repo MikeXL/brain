{
  "nbformat": 4,
  "nbformat_minor": 0,
  "metadata": {
    "colab": {
      "name": "iris_torch.ipynb",
      "version": "0.3.2",
      "provenance": [],
      "include_colab_link": true
    },
    "kernelspec": {
      "name": "python2",
      "display_name": "Python 2"
    }
  },
  "cells": [
    {
      "cell_type": "markdown",
      "metadata": {
        "id": "view-in-github",
        "colab_type": "text"
      },
      "source": [
        "<a href=\"https://colab.research.google.com/github/MikeXL/brain/blob/master/iris_torch.ipynb\" target=\"_parent\"><img src=\"https://colab.research.google.com/assets/colab-badge.svg\" alt=\"Open In Colab\"/></a>"
      ]
    },
    {
      "metadata": {
        "id": "ca7hOMfVYNrv",
        "colab_type": "code",
        "colab": {
          "base_uri": "https://localhost:8080/",
          "height": 51
        },
        "outputId": "9609c12b-3a36-4d6c-c96c-719b028f3cba"
      },
      "cell_type": "code",
      "source": [
        "!pip install torch_nightly -f https://download.pytorch.org/whl/nightly/cu90/torch_nightly.html"
      ],
      "execution_count": 1,
      "outputs": [
        {
          "output_type": "stream",
          "text": [
            "Looking in links: https://download.pytorch.org/whl/nightly/cu90/torch_nightly.html\n",
            "Requirement already satisfied: torch_nightly in /usr/local/lib/python2.7/dist-packages (1.0.0.dev20181102)\n"
          ],
          "name": "stdout"
        }
      ]
    },
    {
      "metadata": {
        "id": "61nLzf_RYb8_",
        "colab_type": "code",
        "colab": {}
      },
      "cell_type": "code",
      "source": [
        "import torch\n",
        "import torch.nn as nn\n",
        "from torch.autograd import Variable\n",
        "\n",
        "import numpy as np\n",
        "import pandas as pd\n",
        "\n",
        "import matplotlib\n",
        "import matplotlib.pyplot as plt"
      ],
      "execution_count": 0,
      "outputs": []
    },
    {
      "metadata": {
        "id": "x7DPuawHbvtc",
        "colab_type": "code",
        "colab": {}
      },
      "cell_type": "code",
      "source": [
        "from sklearn import datasets\n",
        "wine = datasets.load_wine()\n",
        "wine.feature_names"
      ],
      "execution_count": 0,
      "outputs": []
    },
    {
      "metadata": {
        "id": "bsXUfwlJTBfB",
        "colab_type": "text"
      },
      "cell_type": "markdown",
      "source": [
        "**!!** *normalize* the input"
      ]
    },
    {
      "metadata": {
        "id": "p2DVbJtUaMmJ",
        "colab_type": "code",
        "colab": {}
      },
      "cell_type": "code",
      "source": [
        "model = nn.Sequential(\n",
        "  nn.Linear(13,24),\n",
        "  nn.ReLU(),\n",
        "  nn.Linear(24,12),\n",
        "  nn.ReLU(),\n",
        "  nn.Linear(12,3),\n",
        "  nn.Softmax(1)\n",
        ")"
      ],
      "execution_count": 0,
      "outputs": []
    },
    {
      "metadata": {
        "id": "yVPfdD8cnFKV",
        "colab_type": "code",
        "colab": {}
      },
      "cell_type": "code",
      "source": [
        "def weight_reset(m):\n",
        "    if isinstance(m, nn.Conv2d) or isinstance(m, nn.Linear):\n",
        "        m.reset_parameters()"
      ],
      "execution_count": 0,
      "outputs": []
    },
    {
      "metadata": {
        "id": "wbmNdeS_ggP1",
        "colab_type": "code",
        "colab": {}
      },
      "cell_type": "code",
      "source": [
        "def score():\n",
        "  model.eval()\n",
        "  out=model(torch.from_numpy(wine.data).float())\n",
        "  _, pred = torch.max(out, 1)\n",
        "\n",
        "  print \"Misclassified %s/%s\" % ((y.size(0) - (pred.data==y.data).sum(0)), y.size(0))\n"
      ],
      "execution_count": 0,
      "outputs": []
    },
    {
      "metadata": {
        "id": "dH1fBcdtTyid",
        "colab_type": "code",
        "colab": {}
      },
      "cell_type": "code",
      "source": [
        "x = torch.from_numpy(wine.data).float()\n",
        "y = torch.from_numpy(wine.target).long()"
      ],
      "execution_count": 0,
      "outputs": []
    },
    {
      "metadata": {
        "id": "qpqrrSLZat2D",
        "colab_type": "code",
        "colab": {}
      },
      "cell_type": "code",
      "source": [
        "epoch = 500\n",
        "lr = .1"
      ],
      "execution_count": 0,
      "outputs": []
    },
    {
      "metadata": {
        "id": "dkW4krnGb3lL",
        "colab_type": "code",
        "colab": {
          "base_uri": "https://localhost:8080/",
          "height": 34
        },
        "outputId": "fed54f45-e475-4bb3-d136-8b5f851f0d25"
      },
      "cell_type": "code",
      "source": [
        "# train L-BFGS\n",
        "\n",
        "\n",
        "optim = torch.optim.LBFGS(model.parameters(), lr=lr)\n",
        "\n",
        "def fit_lbfgs():\n",
        "  losses = []\n",
        "  for _ in range(epoch):\n",
        "    def closure():\n",
        "      optim.zero_grad()\n",
        "      yhat = model(x)\n",
        "      loss = nn.CrossEntropyLoss()(yhat, y)\n",
        "      losses.append(loss.item())\n",
        "      loss.backward()\n",
        "      return loss\n",
        "    optim.step(closure)\n",
        "  return losses\n",
        "\n",
        "model.apply(weight_reset)\n",
        "model.train()\n",
        "loss_lbfgs = fit_lbfgs()\n",
        "score()"
      ],
      "execution_count": 433,
      "outputs": [
        {
          "output_type": "stream",
          "text": [
            "Misclassified tensor(0)/178\n"
          ],
          "name": "stdout"
        }
      ]
    },
    {
      "metadata": {
        "id": "38N8z76J3dOJ",
        "colab_type": "code",
        "colab": {
          "base_uri": "https://localhost:8080/",
          "height": 68
        },
        "outputId": "efa0ae0c-ea09-44c7-803e-e3dcf165f53c"
      },
      "cell_type": "code",
      "source": [
        "optim_adam = torch.optim.Adam(model.parameters(), lr=lr)\n",
        "optim_sgd = torch.optim.SGD(model.parameters(), lr=lr)\n",
        "optim_rmsprop = torch.optim.RMSprop(model.parameters(), lr=lr)\n",
        "\n",
        "\n",
        "def fit(optim):\n",
        "  losses = []\n",
        "  for _ in range(epoch):\n",
        "    optim.zero_grad()\n",
        "    yhat = model(x)\n",
        "    loss = nn.CrossEntropyLoss()(yhat, y)\n",
        "    losses.append(loss.item())\n",
        "    loss.backward()\n",
        "    optim.step()\n",
        "  return losses\n",
        "\n",
        "# train Adam, SGD, RMSprop\n",
        "        \n",
        "model.apply(weight_reset)\n",
        "model.train()\n",
        "loss_adam = fit(optim_adam)\n",
        "score()\n",
        "\n",
        "model.apply(weight_reset)\n",
        "model.train()\n",
        "loss_sgd = fit(optim_sgd)\n",
        "score()\n",
        "\n",
        "model.apply(weight_reset)\n",
        "model.train()\n",
        "loss_rmsprop = fit(optim_rmsprop)\n",
        "score()"
      ],
      "execution_count": 434,
      "outputs": [
        {
          "output_type": "stream",
          "text": [
            "Misclassified tensor(0)/178\n",
            "Misclassified tensor(0)/178\n",
            "Misclassified tensor(107)/178\n"
          ],
          "name": "stdout"
        }
      ]
    },
    {
      "metadata": {
        "id": "f63f7rtZKMZj",
        "colab_type": "code",
        "colab": {
          "base_uri": "https://localhost:8080/",
          "height": 440
        },
        "outputId": "15f730e7-687c-4aa3-cb07-60b2274d973b"
      },
      "cell_type": "code",
      "source": [
        "plt.plot(loss_lbfgs, 'b-', label=\"L-BFGS\")\n",
        "plt.plot(loss_adam, 'g--', label=\"Adam\")\n",
        "plt.plot(loss_sgd, 'r-.', label=\"SGD\")\n",
        "plt.plot(loss_rmsprop, 'm:*', label=\"RMSprop\")\n",
        "plt.legend(loc=\"lower right\")\n",
        "plt.style.use('fast')"
      ],
      "execution_count": 435,
      "outputs": [
        {
          "output_type": "display_data",
          "data": {
            "image/png": "[encoded data removed]",
            "text/plain": [
              "<matplotlib.figure.Figure at 0x7f817dd49810>"
            ]
          },
          "metadata": {
            "tags": []
          }
        }
      ]
    },
    {
      "metadata": {
        "id": "HCyfmNLsejk8",
        "colab_type": "code",
        "colab": {}
      },
      "cell_type": "code",
      "source": [
        "with torch.no_grad():\n",
        "  pred = model(torch.from_numpy(wine.data).float())\n",
        "  l = lf(pred, torch.from_numpy(wine.target).long())\n",
        "  \n",
        "l"
      ],
      "execution_count": 0,
      "outputs": []
    },
    {
      "metadata": {
        "id": "jq9L6MwtPNmo",
        "colab_type": "code",
        "colab": {
          "base_uri": "https://localhost:8080/",
          "height": 612
        },
        "outputId": "4fbe0d8d-af78-44a0-8743-88a0f0140ce9"
      },
      "cell_type": "code",
      "source": [
        "print optim.state_dict\n",
        "print optim_adam.state_dict\n",
        "print optim_sgd.state_dict\n",
        "print optim_rmsprop.state_dict"
      ],
      "execution_count": 437,
      "outputs": [
        {
          "output_type": "stream",
          "text": [
            "<bound method LBFGS.state_dict of LBFGS (\n",
            "Parameter Group 0\n",
            "    history_size: 100\n",
            "    line_search_fn: None\n",
            "    lr: 0.1\n",
            "    max_eval: 25\n",
            "    max_iter: 20\n",
            "    tolerance_change: 1e-09\n",
            "    tolerance_grad: 1e-05\n",
            ")>\n",
            "<bound method Adam.state_dict of Adam (\n",
            "Parameter Group 0\n",
            "    amsgrad: False\n",
            "    betas: (0.9, 0.999)\n",
            "    eps: 1e-08\n",
            "    lr: 0.1\n",
            "    weight_decay: 0\n",
            ")>\n",
            "<bound method SGD.state_dict of SGD (\n",
            "Parameter Group 0\n",
            "    dampening: 0\n",
            "    lr: 0.1\n",
            "    momentum: 0\n",
            "    nesterov: False\n",
            "    weight_decay: 0\n",
            ")>\n",
            "<bound method RMSprop.state_dict of RMSprop (\n",
            "Parameter Group 0\n",
            "    alpha: 0.99\n",
            "    centered: False\n",
            "    eps: 1e-08\n",
            "    lr: 0.1\n",
            "    momentum: 0\n",
            "    weight_decay: 0\n",
            ")>\n"
          ],
          "name": "stdout"
        }
      ]
    },
    {
      "metadata": {
        "id": "2lkMEIhkPrua",
        "colab_type": "code",
        "colab": {}
      },
      "cell_type": "code",
      "source": [
        ""
      ],
      "execution_count": 0,
      "outputs": []
    }
  ]
}