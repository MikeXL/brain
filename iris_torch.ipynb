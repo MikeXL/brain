{
  "nbformat": 4,
  "nbformat_minor": 0,
  "metadata": {
    "colab": {
      "name": "iris_torch.ipynb",
      "version": "0.3.2",
      "provenance": [],
      "include_colab_link": true
    },
    "kernelspec": {
      "name": "python2",
      "display_name": "Python 2"
    }
  },
  "cells": [
    {
      "cell_type": "markdown",
      "metadata": {
        "id": "view-in-github",
        "colab_type": "text"
      },
      "source": [
        "<a href=\"https://colab.research.google.com/github/MikeXL/brain/blob/master/iris_torch.ipynb\" target=\"_parent\"><img src=\"https://colab.research.google.com/assets/colab-badge.svg\" alt=\"Open In Colab\"/></a>"
      ]
    },
    {
      "metadata": {
        "id": "ca7hOMfVYNrv",
        "colab_type": "code",
        "colab": {
          "base_uri": "https://localhost:8080/",
          "height": 51
        },
        "outputId": "9609c12b-3a36-4d6c-c96c-719b028f3cba"
      },
      "cell_type": "code",
      "source": [
        "!pip install torch_nightly -f https://download.pytorch.org/whl/nightly/cu90/torch_nightly.html"
      ],
      "execution_count": 1,
      "outputs": [
        {
          "output_type": "stream",
          "text": [
            "Looking in links: https://download.pytorch.org/whl/nightly/cu90/torch_nightly.html\n",
            "Requirement already satisfied: torch_nightly in /usr/local/lib/python2.7/dist-packages (1.0.0.dev20181102)\n"
          ],
          "name": "stdout"
        }
      ]
    },
    {
      "metadata": {
        "id": "61nLzf_RYb8_",
        "colab_type": "code",
        "colab": {}
      },
      "cell_type": "code",
      "source": [
        "import torch\n",
        "import torch.nn as nn\n",
        "from torch.autograd import Variable\n",
        "\n",
        "import numpy as np\n",
        "import pandas as pd\n",
        "\n",
        "import matplotlib\n",
        "import matplotlib.pyplot as plt"
      ],
      "execution_count": 0,
      "outputs": []
    },
    {
      "metadata": {
        "id": "x7DPuawHbvtc",
        "colab_type": "code",
        "colab": {
          "base_uri": "https://localhost:8080/",
          "height": 238
        },
        "outputId": "74e5b038-4f7f-45c3-857e-809ef3d5f6e9"
      },
      "cell_type": "code",
      "source": [
        "from sklearn import datasets\n",
        "wine = datasets.load_wine()\n",
        "wine.feature_names"
      ],
      "execution_count": 189,
      "outputs": [
        {
          "output_type": "execute_result",
          "data": {
            "text/plain": [
              "['alcohol',\n",
              " 'malic_acid',\n",
              " 'ash',\n",
              " 'alcalinity_of_ash',\n",
              " 'magnesium',\n",
              " 'total_phenols',\n",
              " 'flavanoids',\n",
              " 'nonflavanoid_phenols',\n",
              " 'proanthocyanins',\n",
              " 'color_intensity',\n",
              " 'hue',\n",
              " 'od280/od315_of_diluted_wines',\n",
              " 'proline']"
            ]
          },
          "metadata": {
            "tags": []
          },
          "execution_count": 189
        }
      ]
    },
    {
      "metadata": {
        "id": "bsXUfwlJTBfB",
        "colab_type": "text"
      },
      "cell_type": "markdown",
      "source": [
        "**!!** *normalize* the input"
      ]
    },
    {
      "metadata": {
        "id": "p2DVbJtUaMmJ",
        "colab_type": "code",
        "colab": {}
      },
      "cell_type": "code",
      "source": [
        "model = nn.Sequential(\n",
        "  nn.Linear(13,24),\n",
        "  nn.ReLU(),\n",
        "  nn.Linear(24,12),\n",
        "  nn.ReLU(),\n",
        "  nn.Linear(12,3),\n",
        "  nn.Softmax(1)\n",
        ")"
      ],
      "execution_count": 0,
      "outputs": []
    },
    {
      "metadata": {
        "id": "dH1fBcdtTyid",
        "colab_type": "code",
        "colab": {}
      },
      "cell_type": "code",
      "source": [
        "x = torch.from_numpy(wine.data).float()\n",
        "y = torch.from_numpy(wine.target).long()"
      ],
      "execution_count": 0,
      "outputs": []
    },
    {
      "metadata": {
        "id": "qpqrrSLZat2D",
        "colab_type": "code",
        "colab": {}
      },
      "cell_type": "code",
      "source": [
        "epoch = 500\n",
        "lr = .1"
      ],
      "execution_count": 0,
      "outputs": []
    },
    {
      "metadata": {
        "id": "dkW4krnGb3lL",
        "colab_type": "code",
        "colab": {
          "base_uri": "https://localhost:8080/",
          "height": 34
        },
        "outputId": "b93bc820-f043-4a60-e217-b3fbc57d7161"
      },
      "cell_type": "code",
      "source": [
        "# train L-BFGS\n",
        "\n",
        "\n",
        "optim = torch.optim.LBFGS(model.parameters(), lr=lr)\n",
        "loss_lbfgs = []\n",
        "model.train()\n",
        "\n",
        "for _ in range(epoch):\n",
        "  def closure():\n",
        "    optim.zero_grad()\n",
        "    yhat = model(x)\n",
        "    loss = nn.CrossEntropyLoss()(yhat, y)\n",
        "    loss_lbfgs.append(loss.item())\n",
        "    loss.backward()\n",
        "    return loss\n",
        "optim.step(closure)\n",
        "\n"
      ],
      "execution_count": 370,
      "outputs": [
        {
          "output_type": "execute_result",
          "data": {
            "text/plain": [
              "tensor(0.5514, grad_fn=<NllLossBackward>)"
            ]
          },
          "metadata": {
            "tags": []
          },
          "execution_count": 370
        }
      ]
    },
    {
      "metadata": {
        "id": "38N8z76J3dOJ",
        "colab_type": "code",
        "colab": {}
      },
      "cell_type": "code",
      "source": [
        "optim_adam = torch.optim.Adam(model.parameters(), lr=lr)\n",
        "optim_sgd = torch.optim.SGD(model.parameters(), lr=lr)\n",
        "optim_rmsprop = torch.optim.RMSprop(model.parameters(), lr=lr)\n",
        "\n",
        "\n",
        "def train(optim):\n",
        "  losses = []\n",
        "  for _ in range(epoch):\n",
        "    optim.zero_grad()\n",
        "    yhat = model(x)\n",
        "    loss = nn.CrossEntropyLoss()(yhat, y)\n",
        "    losses.append(loss.item())\n",
        "    loss.backward()\n",
        "    optim.step()\n",
        "  return losses\n",
        "\n",
        "\n",
        "model.train()\n",
        "loss_adam = train(optim_adam)\n",
        "\n",
        "model.train()\n",
        "loss_sgd = train(optim_sgd)\n",
        "\n",
        "model.train()\n",
        "loss_rmsprop = train(optim_rmsprop)"
      ],
      "execution_count": 0,
      "outputs": []
    },
    {
      "metadata": {
        "id": "f63f7rtZKMZj",
        "colab_type": "code",
        "colab": {
          "base_uri": "https://localhost:8080/",
          "height": 440
        },
        "outputId": "c4fc40de-e1de-499f-8ebc-a183c47947ea"
      },
      "cell_type": "code",
      "source": [
        "plt.plot(loss_lbfgs, 'b-', label=\"L-BFGS\")\n",
        "plt.plot(loss_adam, 'g--', label=\"Adam\")\n",
        "plt.plot(loss_sgd, 'r-.', label=\"SGD\")\n",
        "plt.plot(loss_rmsprop, 'm:*', label=\"RMSprop\")\n",
        "plt.legend(loc=\"lower right\")\n",
        "plt.style.use('fast')"
      ],
      "execution_count": 371,
      "outputs": [
        {
          "output_type": "display_data",
          "data": {
            "image/png": "[encoded data removed]",
            "text/plain": [
              "<matplotlib.figure.Figure at 0x7f817e239d50>"
            ]
          },
          "metadata": {
            "tags": []
          }
        }
      ]
    },
    {
      "metadata": {
        "id": "QPJnuGKifc1-",
        "colab_type": "code",
        "colab": {
          "base_uri": "https://localhost:8080/",
          "height": 85
        },
        "outputId": "f1ec6453-fede-402b-9dc4-ae2166ea9eb4"
      },
      "cell_type": "code",
      "source": [
        "print np.mean(loss_lbfgs)\n",
        "print np.mean(loss_adam)\n",
        "print np.mean(loss_sgd)\n",
        "print np.mean(loss_rmsprop)"
      ],
      "execution_count": 372,
      "outputs": [
        {
          "output_type": "stream",
          "text": [
            "0.551444947719574\n",
            "0.551444947719574\n",
            "0.551444947719574\n",
            "0.551444947719574\n"
          ],
          "name": "stdout"
        }
      ]
    },
    {
      "metadata": {
        "id": "HCyfmNLsejk8",
        "colab_type": "code",
        "colab": {}
      },
      "cell_type": "code",
      "source": [
        "with torch.no_grad():\n",
        "  pred = model(torch.from_numpy(wine.data).float())\n",
        "  l = lf(pred, torch.from_numpy(wine.target).long())\n",
        "  \n",
        "l"
      ],
      "execution_count": 0,
      "outputs": []
    },
    {
      "metadata": {
        "id": "wbmNdeS_ggP1",
        "colab_type": "code",
        "colab": {}
      },
      "cell_type": "code",
      "source": [
        "model.eval()\n",
        "out=model(torch.from_numpy(wine.data).float())\n",
        "_, p = torch.max(out, 1)"
      ],
      "execution_count": 0,
      "outputs": []
    },
    {
      "metadata": {
        "id": "i0crk4kjKpXq",
        "colab_type": "code",
        "colab": {
          "base_uri": "https://localhost:8080/",
          "height": 153
        },
        "outputId": "22c9a241-e26f-47a6-fcc1-952d3ac411f0"
      },
      "cell_type": "code",
      "source": [
        "p"
      ],
      "execution_count": 325,
      "outputs": [
        {
          "output_type": "execute_result",
          "data": {
            "text/plain": [
              "tensor([0, 0, 0, 0, 0, 0, 0, 0, 0, 0, 0, 0, 0, 0, 0, 0, 0, 0, 0, 0, 0, 0, 0, 0,\n",
              "        0, 0, 0, 0, 0, 0, 0, 0, 0, 0, 0, 0, 0, 0, 0, 0, 0, 0, 0, 0, 0, 0, 0, 0,\n",
              "        0, 0, 0, 0, 0, 0, 0, 0, 0, 0, 0, 1, 1, 1, 1, 1, 1, 1, 1, 1, 1, 1, 1, 1,\n",
              "        1, 1, 1, 1, 1, 1, 1, 1, 1, 1, 1, 1, 1, 1, 1, 1, 1, 1, 1, 1, 1, 1, 1, 1,\n",
              "        1, 1, 1, 1, 1, 1, 1, 1, 1, 1, 1, 1, 1, 1, 1, 1, 1, 1, 1, 1, 1, 1, 1, 1,\n",
              "        1, 1, 1, 1, 1, 1, 1, 1, 1, 1, 2, 2, 2, 2, 2, 2, 2, 2, 2, 2, 2, 2, 2, 2,\n",
              "        2, 2, 2, 2, 2, 2, 2, 2, 2, 2, 2, 2, 2, 2, 2, 2, 2, 2, 2, 2, 2, 2, 2, 2,\n",
              "        2, 2, 2, 2, 2, 2, 2, 2, 2, 2])"
            ]
          },
          "metadata": {
            "tags": []
          },
          "execution_count": 325
        }
      ]
    },
    {
      "metadata": {
        "id": "jq9L6MwtPNmo",
        "colab_type": "code",
        "colab": {
          "base_uri": "https://localhost:8080/",
          "height": 612
        },
        "outputId": "cca5ce40-d9b9-4819-ff77-bb1ec3d9211b"
      },
      "cell_type": "code",
      "source": [
        "print optim.state_dict\n",
        "print optim_adam.state_dict\n",
        "print optim_sgd.state_dict\n",
        "print optim_rmsprop.state_dict"
      ],
      "execution_count": 323,
      "outputs": [
        {
          "output_type": "stream",
          "text": [
            "<bound method LBFGS.state_dict of LBFGS (\n",
            "Parameter Group 0\n",
            "    history_size: 100\n",
            "    line_search_fn: None\n",
            "    lr: 0.1\n",
            "    max_eval: 25\n",
            "    max_iter: 20\n",
            "    tolerance_change: 1e-09\n",
            "    tolerance_grad: 1e-05\n",
            ")>\n",
            "<bound method Adam.state_dict of Adam (\n",
            "Parameter Group 0\n",
            "    amsgrad: False\n",
            "    betas: (0.9, 0.999)\n",
            "    eps: 1e-08\n",
            "    lr: 0.1\n",
            "    weight_decay: 0\n",
            ")>\n",
            "<bound method SGD.state_dict of SGD (\n",
            "Parameter Group 0\n",
            "    dampening: 0\n",
            "    lr: 0.1\n",
            "    momentum: 0\n",
            "    nesterov: False\n",
            "    weight_decay: 0\n",
            ")>\n",
            "<bound method RMSprop.state_dict of RMSprop (\n",
            "Parameter Group 0\n",
            "    alpha: 0.99\n",
            "    centered: False\n",
            "    eps: 1e-08\n",
            "    lr: 0.1\n",
            "    momentum: 0\n",
            "    weight_decay: 0\n",
            ")>\n"
          ],
          "name": "stdout"
        }
      ]
    },
    {
      "metadata": {
        "id": "2lkMEIhkPrua",
        "colab_type": "code",
        "colab": {}
      },
      "cell_type": "code",
      "source": [
        ""
      ],
      "execution_count": 0,
      "outputs": []
    }
  ]
}