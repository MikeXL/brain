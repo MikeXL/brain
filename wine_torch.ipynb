{
  "nbformat": 4,
  "nbformat_minor": 0,
  "metadata": {
    "colab": {
      "name": "wine_torch.ipynb",
      "version": "0.3.2",
      "provenance": [],
      "include_colab_link": true
    },
    "kernelspec": {
      "name": "python2",
      "display_name": "Python 2"
    }
  },
  "cells": [
    {
      "cell_type": "markdown",
      "metadata": {
        "id": "view-in-github",
        "colab_type": "text"
      },
      "source": [
        "<a href=\"https://colab.research.google.com/github/MikeXL/brain/blob/master/wine_torch.ipynb\" target=\"_parent\"><img src=\"https://colab.research.google.com/assets/colab-badge.svg\" alt=\"Open In Colab\"/></a>"
      ]
    },
    {
      "metadata": {
        "id": "ca7hOMfVYNrv",
        "colab_type": "code",
        "colab": {}
      },
      "cell_type": "code",
      "source": [
        "!pip -q install torch_nightly -f \\\n",
        "        https://download.pytorch.org/whl/nightly/cu90/torch_nightly.html"
      ],
      "execution_count": 0,
      "outputs": []
    },
    {
      "metadata": {
        "id": "61nLzf_RYb8_",
        "colab_type": "code",
        "colab": {}
      },
      "cell_type": "code",
      "source": [
        "import torch\n",
        "import torch.nn as nn\n",
        "\n",
        "import numpy as np\n",
        "import pandas as pd\n",
        "\n",
        "from sklearn import datasets\n",
        "import sklearn\n",
        "\n",
        "import matplotlib\n",
        "import matplotlib.pyplot as plt\n",
        "plt.style.use('fivethirtyeight')"
      ],
      "execution_count": 0,
      "outputs": []
    },
    {
      "metadata": {
        "id": "x7DPuawHbvtc",
        "colab_type": "code",
        "colab": {}
      },
      "cell_type": "code",
      "source": [
        "wine = datasets.load_wine()\n",
        "wine.data = sklearn.preprocessing.scale(wine.data)   ## scale prior training\n",
        "\n",
        "x = torch.from_numpy(wine.data).float()              ## features\n",
        "y = torch.from_numpy(wine.target).long()             ## target"
      ],
      "execution_count": 0,
      "outputs": []
    },
    {
      "metadata": {
        "id": "p2DVbJtUaMmJ",
        "colab_type": "code",
        "colab": {}
      },
      "cell_type": "code",
      "source": [
        "                                                     ## valilla neural net with \n",
        "model = nn.Sequential(\n",
        "  nn.Linear(13,6),\n",
        "  nn.ReLU(),\n",
        "  nn.Linear(6,3),\n",
        "  nn.Softmax(1)\n",
        ")"
      ],
      "execution_count": 0,
      "outputs": []
    },
    {
      "metadata": {
        "id": "yVPfdD8cnFKV",
        "colab_type": "code",
        "colab": {}
      },
      "cell_type": "code",
      "source": [
        "def init_weight(m):\n",
        "    #print m.__class__.__name__\n",
        "    if isinstance(m, nn.Linear):\n",
        "        #nn.init.normal_(m.weight.data, 1.0, 0.02)\n",
        "        #nn.init.constant_(m.bias.data, 0)\n",
        "        m.reset_parameters()\n",
        "        #print m.weight.data, m.bias.data\n"
      ],
      "execution_count": 0,
      "outputs": []
    },
    {
      "metadata": {
        "id": "wbmNdeS_ggP1",
        "colab_type": "code",
        "colab": {}
      },
      "cell_type": "code",
      "source": [
        "def score(model, x, y):\n",
        "  model.eval()\n",
        "  out=model(x)\n",
        "  _, pred = torch.max(out, 1)\n",
        "\n",
        "  print \"Misclassified %s/%s\" % \\\n",
        "         ((y.size(0) - (pred.data==y.data).sum(0)), y.size(0))\n"
      ],
      "execution_count": 0,
      "outputs": []
    },
    {
      "metadata": {
        "id": "qpqrrSLZat2D",
        "colab_type": "code",
        "colab": {}
      },
      "cell_type": "code",
      "source": [
        "EPOCH = 100\n",
        "lr = .1\n",
        "lf = nn.CrossEntropyLoss()"
      ],
      "execution_count": 0,
      "outputs": []
    },
    {
      "metadata": {
        "id": "yxjwRPeSsQf5",
        "colab_type": "code",
        "colab": {}
      },
      "cell_type": "code",
      "source": [
        "# use LBFGS\n",
        "optim   = torch.optim.LBFGS(model.parameters(), lr=lr)\n",
        "# for tracing training and validation losses\n",
        "tlosses, vlosses = [], []\n",
        "# initilize network weight\n",
        "model.apply(init_weight)\n",
        "# begin training\n",
        "for _ in range(EPOCH):\n",
        "    if _%4 < 3:\n",
        "      #print _\n",
        "      def closure():\n",
        "        optim.zero_grad()\n",
        "        yhat = model(x)\n",
        "        loss = lf(yhat, y)\n",
        "        tlosses.append(loss.item())\n",
        "        loss.backward()\n",
        "        return loss\n",
        "      optim.step(closure)\n",
        "    else:\n",
        "      #print \"validation %s\" %_\n",
        "      with torch.no_grad():\n",
        "        pred = model(x)\n",
        "        l = lf(pred, y)\n",
        "        vlosses.append(l.item())\n"
      ],
      "execution_count": 0,
      "outputs": []
    },
    {
      "metadata": {
        "id": "BGCZrV4Bxxdz",
        "colab_type": "code",
        "colab": {}
      },
      "cell_type": "code",
      "source": [
        "for _ in model.parameters():\n",
        "  print _"
      ],
      "execution_count": 0,
      "outputs": []
    },
    {
      "metadata": {
        "id": "_vlaD14RsjzP",
        "colab_type": "code",
        "colab": {
          "base_uri": "https://localhost:8080/",
          "height": 390
        },
        "outputId": "f9ea8b7d-244c-462b-ec33-97d0fdd7fdcb"
      },
      "cell_type": "code",
      "source": [
        "plt.plot(tlosses, 'g-', label='trianing loss')\n",
        "plt.plot(vlosses, 'b--', label='validation loss')\n",
        "plt.legend(loc=\"lower right\")\n",
        "plt.title(\"training vs. validation\")"
      ],
      "execution_count": 172,
      "outputs": [
        {
          "output_type": "display_data",
          "data": {
            "image/png": "[encoded data removed]",
            "text/plain": [
              "<matplotlib.figure.Figure at 0x7f39abd92c50>"
            ]
          },
          "metadata": {
            "tags": []
          }
        }
      ]
    },
    {
      "metadata": {
        "id": "dkW4krnGb3lL",
        "colab_type": "code",
        "colab": {}
      },
      "cell_type": "code",
      "source": [
        "\n",
        "# train Adam, SGD, RMSprop\n",
        "optim = torch.optim.Adam(model.parameters(), lr=lr)\n",
        "# optim = torch.optim.SGD(model.parameters(), lr=lr)\n",
        "# optim = torch.optim.RMSprop(model.parameters(), lr=lr)\n",
        "# trace training and validation losses\n",
        "tlosses, vlosses = [], []\n",
        "# initialize network weight\n",
        "model.apply(init_weight)\n",
        "for _ in range(EPOCH):\n",
        "    if _%4 < 3:\n",
        "      optim.zero_grad()\n",
        "      yhat = model(x)\n",
        "      loss = lf(yhat, y)\n",
        "      tlosses.append(loss.item())\n",
        "      loss.backward()\n",
        "      optim.step()\n",
        "    else:\n",
        "      # validation\n",
        "      with torch.no_grad():\n",
        "        pred = model(x)\n",
        "        l = lf(pred, y)\n",
        "        vlosses.append(l.item())\n"
      ],
      "execution_count": 0,
      "outputs": []
    },
    {
      "metadata": {
        "id": "3nw9_jQBbVqr",
        "colab_type": "code",
        "colab": {
          "base_uri": "https://localhost:8080/",
          "height": 390
        },
        "outputId": "19cbcec1-0b32-4e3d-e1ee-218160f2d9bd"
      },
      "cell_type": "code",
      "source": [
        "plt.plot(tlosses, 'g-', label='trianing loss')\n",
        "plt.plot(vlosses, 'b--', label='validation loss')\n",
        "plt.legend(loc=\"lower right\")\n",
        "plt.title(\"training vs. validation\")"
      ],
      "execution_count": 174,
      "outputs": [
        {
          "output_type": "display_data",
          "data": {
            "image/png": "[encoded data removed]",
            "text/plain": [
              "<matplotlib.figure.Figure at 0x7f39abeb7190>"
            ]
          },
          "metadata": {
            "tags": []
          }
        }
      ]
    }
  ]
}