{
 "cells": [
  {
   "cell_type": "code",
   "execution_count": 2,
   "metadata": {
    "collapsed": false,
    "deletable": true,
    "editable": true
   },
   "outputs": [
    {
     "data": {
      "text/html": [
       "0.91840010881424"
      ],
      "text/latex": [
       "0.91840010881424"
      ],
      "text/markdown": [
       "0.91840010881424"
      ],
      "text/plain": [
       "[1] 0.9184001"
      ]
     },
     "metadata": {},
     "output_type": "display_data"
    }
   ],
   "source": [
    "library(tensorflow)\n",
    "\n",
    "# Create the model\n",
    "x <- tf$placeholder(tf$float32, shape(NULL, 784L))\n",
    "W <- tf$Variable(tf$zeros(shape(784L, 10L)))\n",
    "b <- tf$Variable(tf$zeros(shape(10L)))\n",
    "\n",
    "y <- tf$nn$softmax(tf$matmul(x, W) + b)\n",
    "\n",
    "# Define loss and optimizer\n",
    "y_ <- tf$placeholder(tf$float32, shape(NULL, 10L))\n",
    "cross_entropy <- tf$reduce_mean(-tf$reduce_sum(y_ * log(y), reduction_indices=1L))\n",
    "train_step <- tf$train$GradientDescentOptimizer(0.5)$minimize(cross_entropy)\n",
    "\n",
    "# Create session and initialize  variables\n",
    "sess <- tf$Session()\n",
    "sess$run(tf$global_variables_initializer())\n",
    "\n",
    "# Load mnist data    )\n",
    "datasets <- tf$contrib$learn$datasets\n",
    "mnist <- datasets$mnist$read_data_sets(\"MNIST-data\", one_hot = TRUE)\n",
    "\n",
    "# Train\n",
    "for (i in 1:1000) {\n",
    "  batches <- mnist$train$next_batch(100L)\n",
    "  batch_xs <- batches[[1]]\n",
    "  batch_ys <- batches[[2]]\n",
    "  sess$run(train_step,\n",
    "           feed_dict = dict(x = batch_xs, y_ = batch_ys))\n",
    "}\n",
    "\n",
    "# Test trained model\n",
    "correct_prediction <- tf$equal(tf$argmax(y, 1L), tf$argmax(y_, 1L))\n",
    "accuracy <- tf$reduce_mean(tf$cast(correct_prediction, tf$float32))\n",
    "sess$run(accuracy,\n",
    "         feed_dict = dict(x = mnist$test$images, y_ = mnist$test$labels))"
   ]
  },
  {
   "cell_type": "code",
   "execution_count": null,
   "metadata": {
    "collapsed": true,
    "deletable": true,
    "editable": true
   },
   "outputs": [],
   "source": []
  }
 ],
 "metadata": {
  "kernelspec": {
   "display_name": "R",
   "language": "R",
   "name": "ir"
  },
  "language_info": {
   "codemirror_mode": "r",
   "file_extension": ".r",
   "mimetype": "text/x-r-source",
   "name": "R",
   "pygments_lexer": "r",
   "version": "3.3.3"
  }
 },
 "nbformat": 4,
 "nbformat_minor": 2
}
