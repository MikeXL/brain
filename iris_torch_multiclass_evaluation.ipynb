{
 "cells": [
  {
   "cell_type": "markdown",
   "metadata": {},
   "source": [
    "# multiclass classifier evaluation #\n",
    "\n",
    "A bit tongue twist to read, perhaps call it multi label classifier or multi target classifier.. anywhoo, like multi class classifier. Fun\n",
    "\n",
    "Here comes some thoughts on evaluate 'em\n",
    "\n",
    "1. confusion matrix, good old friend\n",
    "2. cross entropy\n",
    "3. micro vs. macro F1\n",
    "4. ROC .. yes, you hear it.. one-vs-rest still function, be cautious though.. and for three class, there is an 3D version of it. 4D for four class, other than tongue twist, brain twist is required\n",
    "5. Lift, Gain?\n",
    "6. Calibration, K-S ?\n",
    "\n",
    "P.S. None of these would not make sense, if not for model comparison purpose, be it comparing to the hypothetical 50-50 draw or an baseline regression model."
   ]
  },
  {
   "cell_type": "code",
   "execution_count": 419,
   "metadata": {},
   "outputs": [],
   "source": [
    "library(reticulate)\n",
    "use_python('/PYTHON_SERVICES')"
   ]
  },
  {
   "cell_type": "code",
   "execution_count": 391,
   "metadata": {},
   "outputs": [],
   "source": [
    "torch = import(\"torch\")\n",
    "nn    = import(\"torch.nn\")"
   ]
  },
  {
   "cell_type": "code",
   "execution_count": 408,
   "metadata": {},
   "outputs": [],
   "source": [
    "m = nn$Sequential( nn$Linear(4L, 13L), \n",
    "                  nn$ReLU(),\n",
    "                  nn$Linear(13L, 3L),\n",
    "                  nn$Softmax()\n",
    "                 )"
   ]
  },
  {
   "cell_type": "code",
   "execution_count": 409,
   "metadata": {},
   "outputs": [
    {
     "data": {
      "text/plain": [
       "Sequential(\n",
       "  (0): Linear(in_features=4, out_features=13, bias=True)\n",
       "  (1): ReLU()\n",
       "  (2): Linear(in_features=13, out_features=3, bias=True)\n",
       "  (3): Softmax()\n",
       ")"
      ]
     },
     "metadata": {},
     "output_type": "display_data"
    }
   ],
   "source": [
    "m"
   ]
  },
  {
   "cell_type": "code",
   "execution_count": 394,
   "metadata": {},
   "outputs": [],
   "source": [
    "idx <- sample(1:nrow(iris), 30)\n",
    "train <- iris[-idx, ]\n",
    "test <- iris[idx,]\n",
    "# new.data <- matrix(scale(test[,1:4]), nrow=20, ncol=4)\n"
   ]
  },
  {
   "cell_type": "code",
   "execution_count": 395,
   "metadata": {},
   "outputs": [
    {
     "data": {
      "text/plain": [
       "torch.Size([120, 4])"
      ]
     },
     "metadata": {},
     "output_type": "display_data"
    },
    {
     "data": {
      "text/plain": [
       "torch.Size([30, 4])"
      ]
     },
     "metadata": {},
     "output_type": "display_data"
    }
   ],
   "source": [
    "x_train <- torch$from_numpy(as.matrix(iris[-idx, 1:4]))$float()\n",
    "x_val   <- torch$from_numpy(as.matrix(iris[ idx, 1:4]))$float()\n",
    "x_train$size()\n",
    "x_val$size()"
   ]
  },
  {
   "cell_type": "code",
   "execution_count": 396,
   "metadata": {},
   "outputs": [],
   "source": [
    "y_train <- torch$from_numpy(as.matrix(as.integer(iris[-idx,5])-1))$long()\n",
    "y_train <- torch$squeeze(y_train, 1L)\n",
    "y_val   <- torch$from_numpy(as.matrix(as.integer(iris[idx,5])-1))$long()\n",
    "y_val   <- torch$squeeze(y_val, 1L)"
   ]
  },
  {
   "cell_type": "code",
   "execution_count": 397,
   "metadata": {},
   "outputs": [
    {
     "data": {
      "text/plain": [
       "torch.Size([120])"
      ]
     },
     "metadata": {},
     "output_type": "display_data"
    },
    {
     "data": {
      "text/plain": [
       "torch.Size([30])"
      ]
     },
     "metadata": {},
     "output_type": "display_data"
    }
   ],
   "source": [
    "y_train$size()\n",
    "y_val$size()"
   ]
  },
  {
   "cell_type": "code",
   "execution_count": 398,
   "metadata": {},
   "outputs": [],
   "source": [
    "main <- py_run_string(\"\n",
    "def init_weight(m):\n",
    "    #print m.__class__.__name__\n",
    "    if isinstance(m, nn.Linear):\n",
    "        #nn.init.normal_(m.weight.data, 1.0, 0.02)\n",
    "        #nn.init.constant_(m.bias.data, 0)\n",
    "        m.reset_parameters()\n",
    "        #print m.weight.data, m.bias.data\n",
    "\")"
   ]
  },
  {
   "cell_type": "code",
   "execution_count": 410,
   "metadata": {},
   "outputs": [
    {
     "data": {
      "text/plain": [
       "Sequential(\n",
       "  (0): Linear(in_features=4, out_features=13, bias=True)\n",
       "  (1): ReLU()\n",
       "  (2): Linear(in_features=13, out_features=3, bias=True)\n",
       "  (3): Softmax()\n",
       ")"
      ]
     },
     "metadata": {},
     "output_type": "display_data"
    }
   ],
   "source": [
    "m$apply(main$init_weight)"
   ]
  },
  {
   "cell_type": "code",
   "execution_count": 411,
   "metadata": {},
   "outputs": [],
   "source": [
    "\n",
    "\n",
    "EPOCH = 500\n",
    "losses = matrix(0, nrow=EPOCH, ncol=2)\n",
    "\n",
    "optim    <- torch$optim$Adam(m$parameters(), lr=.001)\n",
    "\n",
    "for( e in 1:EPOCH)\n",
    "{\n",
    "        m$train()\n",
    "        optim$zero_grad()\n",
    "        yhat = m(x_train)\n",
    "        # print(yhat)\n",
    "        #l = nn$MSELoss()(yhat, y$float())\n",
    "        l = nn$CrossEntropyLoss()(yhat, y_train)\n",
    "        losses[e, 1] = l$item()\n",
    "        l$backward()\n",
    "        optim$step()\n",
    "\n",
    "        #torch$no_grad() \n",
    "        #torch$set_grad_enabled(F)\n",
    "        m$eval()\n",
    "        pred = m(x_val)\n",
    "        ll = nn$CrossEntropyLoss()(pred, y_val)\n",
    "        losses[e,2] = ll$item()\n",
    "\n",
    "}"
   ]
  },
  {
   "cell_type": "code",
   "execution_count": 412,
   "metadata": {},
   "outputs": [
    {
     "data": {
      "text/plain": [
       "       V1               V2        \n",
       " Min.   :0.7479   Min.   :0.8092  \n",
       " 1st Qu.:0.8064   1st Qu.:0.8901  \n",
       " Median :0.8761   Median :0.9896  \n",
       " Mean   :0.9054   Mean   :0.9851  \n",
       " 3rd Qu.:1.0110   3rd Qu.:1.0889  \n",
       " Max.   :1.1294   Max.   :1.1538  "
      ]
     },
     "metadata": {},
     "output_type": "display_data"
    }
   ],
   "source": [
    "summary(losses)"
   ]
  },
  {
   "cell_type": "code",
   "execution_count": 413,
   "metadata": {},
   "outputs": [
    {
     "data": {
      "image/png": "[encoded data removed]",
      "text/plain": [
       "plot without title"
      ]
     },
     "metadata": {},
     "output_type": "display_data"
    }
   ],
   "source": [
    "options(repr.plot.width = 5, repr.plot.height = 3)\n",
    "plot(losses[,1], type=\"l\", col=\"green\", xlab=\"\", ylab=\"\")\n",
    "lines(losses[,2], col=\"grey\", type=\"l\", lty=2)"
   ]
  },
  {
   "cell_type": "code",
   "execution_count": 414,
   "metadata": {},
   "outputs": [
    {
     "data": {
      "text/plain": [
       "Sequential(\n",
       "  (0): Linear(in_features=4, out_features=13, bias=True)\n",
       "  (1): ReLU()\n",
       "  (2): Linear(in_features=13, out_features=3, bias=True)\n",
       "  (3): Softmax()\n",
       ")"
      ]
     },
     "metadata": {},
     "output_type": "display_data"
    }
   ],
   "source": [
    "m$eval()"
   ]
  },
  {
   "cell_type": "code",
   "execution_count": 415,
   "metadata": {},
   "outputs": [],
   "source": [
    "p_train <- m(x_train)\n",
    "p_val   <- m(x_val)"
   ]
  },
  {
   "cell_type": "code",
   "execution_count": 416,
   "metadata": {},
   "outputs": [],
   "source": [
    "pred_class_train <- torch$max(p_train$data, 1L)\n",
    "pred_class_val   <- torch$max(p_val$data, 1L)"
   ]
  },
  {
   "cell_type": "code",
   "execution_count": 417,
   "metadata": {},
   "outputs": [
    {
     "data": {
      "text/plain": [
       "   \n",
       "     0  1  2\n",
       "  0 41  0  0\n",
       "  1  0 28  0\n",
       "  2  0  8 43"
      ]
     },
     "metadata": {},
     "output_type": "display_data"
    }
   ],
   "source": [
    "table(pred_class_train[[2]]$numpy(), y_train$numpy())"
   ]
  },
  {
   "cell_type": "code",
   "execution_count": 418,
   "metadata": {},
   "outputs": [
    {
     "data": {
      "text/plain": [
       "   \n",
       "     0  1  2\n",
       "  0  9  0  0\n",
       "  1  0 10  0\n",
       "  2  0  4  7"
      ]
     },
     "metadata": {},
     "output_type": "display_data"
    }
   ],
   "source": [
    "table(pred_class_val[[2]]$numpy(), y_val$numpy())"
   ]
  },
  {
   "cell_type": "code",
   "execution_count": null,
   "metadata": {},
   "outputs": [],
   "source": []
  }
 ],
 "metadata": {
  "kernelspec": {
   "display_name": "R",
   "language": "R",
   "name": "ir"
  },
  "language_info": {
   "codemirror_mode": "r",
   "file_extension": ".r",
   "mimetype": "text/x-r-source",
   "name": "R",
   "pygments_lexer": "r",
   "version": "3.3.3"
  }
 },
 "nbformat": 4,
 "nbformat_minor": 2
}
