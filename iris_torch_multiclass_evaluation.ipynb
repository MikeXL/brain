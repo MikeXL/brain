{
 "cells": [
  {
   "cell_type": "markdown",
   "metadata": {},
   "source": [
    "# multiclass classifier evaluation #\n",
    "\n",
    "A bit tongue twist to read, perhaps call it multi label classifier or multi target classifier.. anywhoo, like multi class classifier. Fun\n",
    "\n",
    "Here comes some thoughts on evaluate 'em\n",
    "\n",
    "1. confusion matrix, good old friend\n",
    "2. cross entropy\n",
    "3. micro vs. macro F1\n",
    "4. ROC .. yes, you hear it.. one-vs-rest still function, be cautious though.. and for three class, there is an 3D version of it. 4D for four class, other than tongue twist, brain twist is required\n",
    "5. Lift, Gain?\n",
    "6. Calibration, K-S ?\n",
    "\n",
    "P.S. None of these would not make sense, if not for model comparison purpose, be it comparing to the hypothetical 50-50 draw or an baseline regression model."
   ]
  },
  {
   "cell_type": "code",
   "execution_count": 419,
   "metadata": {},
   "outputs": [],
   "source": [
    "library(reticulate)\n",
    "use_python('/PYTHON_SERVICES')"
   ]
  },
  {
   "cell_type": "code",
   "execution_count": 391,
   "metadata": {},
   "outputs": [],
   "source": [
    "torch = import(\"torch\")\n",
    "nn    = import(\"torch.nn\")"
   ]
  },
  {
   "cell_type": "code",
   "execution_count": 408,
   "metadata": {},
   "outputs": [],
   "source": [
    "m = nn$Sequential( nn$Linear(4L, 13L), \n",
    "                  nn$ReLU(),\n",
    "                  nn$Linear(13L, 3L),\n",
    "                  nn$Softmax()\n",
    "                 )"
   ]
  },
  {
   "cell_type": "code",
   "execution_count": 409,
   "metadata": {},
   "outputs": [
    {
     "data": {
      "text/plain": [
       "Sequential(\n",
       "  (0): Linear(in_features=4, out_features=13, bias=True)\n",
       "  (1): ReLU()\n",
       "  (2): Linear(in_features=13, out_features=3, bias=True)\n",
       "  (3): Softmax()\n",
       ")"
      ]
     },
     "metadata": {},
     "output_type": "display_data"
    }
   ],
   "source": [
    "m"
   ]
  },
  {
   "cell_type": "code",
   "execution_count": 394,
   "metadata": {},
   "outputs": [],
   "source": [
    "idx <- sample(1:nrow(iris), 30)\n",
    "train <- iris[-idx, ]\n",
    "test <- iris[idx,]\n",
    "# new.data <- matrix(scale(test[,1:4]), nrow=20, ncol=4)\n"
   ]
  },
  {
   "cell_type": "code",
   "execution_count": 395,
   "metadata": {},
   "outputs": [
    {
     "data": {
      "text/plain": [
       "torch.Size([120, 4])"
      ]
     },
     "metadata": {},
     "output_type": "display_data"
    },
    {
     "data": {
      "text/plain": [
       "torch.Size([30, 4])"
      ]
     },
     "metadata": {},
     "output_type": "display_data"
    }
   ],
   "source": [
    "x_train <- torch$from_numpy(as.matrix(iris[-idx, 1:4]))$float()\n",
    "x_val   <- torch$from_numpy(as.matrix(iris[ idx, 1:4]))$float()\n",
    "x_train$size()\n",
    "x_val$size()"
   ]
  },
  {
   "cell_type": "code",
   "execution_count": 396,
   "metadata": {},
   "outputs": [],
   "source": [
    "y_train <- torch$from_numpy(as.matrix(as.integer(iris[-idx,5])-1))$long()\n",
    "y_train <- torch$squeeze(y_train, 1L)\n",
    "y_val   <- torch$from_numpy(as.matrix(as.integer(iris[idx,5])-1))$long()\n",
    "y_val   <- torch$squeeze(y_val, 1L)"
   ]
  },
  {
   "cell_type": "code",
   "execution_count": 397,
   "metadata": {},
   "outputs": [
    {
     "data": {
      "text/plain": [
       "torch.Size([120])"
      ]
     },
     "metadata": {},
     "output_type": "display_data"
    },
    {
     "data": {
      "text/plain": [
       "torch.Size([30])"
      ]
     },
     "metadata": {},
     "output_type": "display_data"
    }
   ],
   "source": [
    "y_train$size()\n",
    "y_val$size()"
   ]
  },
  {
   "cell_type": "code",
   "execution_count": 398,
   "metadata": {},
   "outputs": [],
   "source": [
    "main <- py_run_string(\"\n",
    "def init_weight(m):\n",
    "    #print m.__class__.__name__\n",
    "    if isinstance(m, nn.Linear):\n",
    "        #nn.init.normal_(m.weight.data, 1.0, 0.02)\n",
    "        #nn.init.constant_(m.bias.data, 0)\n",
    "        m.reset_parameters()\n",
    "        #print m.weight.data, m.bias.data\n",
    "\")"
   ]
  },
  {
   "cell_type": "code",
   "execution_count": 410,
   "metadata": {},
   "outputs": [
    {
     "data": {
      "text/plain": [
       "Sequential(\n",
       "  (0): Linear(in_features=4, out_features=13, bias=True)\n",
       "  (1): ReLU()\n",
       "  (2): Linear(in_features=13, out_features=3, bias=True)\n",
       "  (3): Softmax()\n",
       ")"
      ]
     },
     "metadata": {},
     "output_type": "display_data"
    }
   ],
   "source": [
    "m$apply(main$init_weight)"
   ]
  },
  {
   "cell_type": "code",
   "execution_count": 411,
   "metadata": {},
   "outputs": [],
   "source": [
    "\n",
    "\n",
    "EPOCH = 500\n",
    "losses = matrix(0, nrow=EPOCH, ncol=2)\n",
    "\n",
    "optim    <- torch$optim$Adam(m$parameters(), lr=.001)\n",
    "\n",
    "for( e in 1:EPOCH)\n",
    "{\n",
    "        m$train()\n",
    "        optim$zero_grad()\n",
    "        yhat = m(x_train)\n",
    "        # print(yhat)\n",
    "        #l = nn$MSELoss()(yhat, y$float())\n",
    "        l = nn$CrossEntropyLoss()(yhat, y_train)\n",
    "        losses[e, 1] = l$item()\n",
    "        l$backward()\n",
    "        optim$step()\n",
    "\n",
    "        #torch$no_grad() \n",
    "        #torch$set_grad_enabled(F)\n",
    "        m$eval()\n",
    "        pred = m(x_val)\n",
    "        ll = nn$CrossEntropyLoss()(pred, y_val)\n",
    "        losses[e,2] = ll$item()\n",
    "\n",
    "}"
   ]
  },
  {
   "cell_type": "code",
   "execution_count": 412,
   "metadata": {},
   "outputs": [
    {
     "data": {
      "text/plain": [
       "       V1               V2        \n",
       " Min.   :0.7479   Min.   :0.8092  \n",
       " 1st Qu.:0.8064   1st Qu.:0.8901  \n",
       " Median :0.8761   Median :0.9896  \n",
       " Mean   :0.9054   Mean   :0.9851  \n",
       " 3rd Qu.:1.0110   3rd Qu.:1.0889  \n",
       " Max.   :1.1294   Max.   :1.1538  "
      ]
     },
     "metadata": {},
     "output_type": "display_data"
    }
   ],
   "source": [
    "summary(losses)"
   ]
  },
  {
   "cell_type": "code",
   "execution_count": 413,
   "metadata": {},
   "outputs": [
    {
     "data": {
      "image/png": "[encoded data removed]",
      "text/plain": [
       "plot without title"
      ]
     },
     "metadata": {},
     "output_type": "display_data"
    }
   ],
   "source": [
    "options(repr.plot.width = 5, repr.plot.height = 3)\n",
    "plot(losses[,1], type=\"l\", col=\"green\", xlab=\"\", ylab=\"\")\n",
    "lines(losses[,2], col=\"grey\", type=\"l\", lty=2)"
   ]
  },
  {
   "cell_type": "code",
   "execution_count": 414,
   "metadata": {},
   "outputs": [
    {
     "data": {
      "text/plain": [
       "Sequential(\n",
       "  (0): Linear(in_features=4, out_features=13, bias=True)\n",
       "  (1): ReLU()\n",
       "  (2): Linear(in_features=13, out_features=3, bias=True)\n",
       "  (3): Softmax()\n",
       ")"
      ]
     },
     "metadata": {},
     "output_type": "display_data"
    }
   ],
   "source": [
    "m$eval()"
   ]
  },
  {
   "cell_type": "code",
   "execution_count": 426,
   "metadata": {},
   "outputs": [],
   "source": [
    "p_train <- m(x_train)\n",
    "p_val   <- m(x_val)"
   ]
  },
  {
   "cell_type": "code",
   "execution_count": 416,
   "metadata": {},
   "outputs": [],
   "source": [
    "pred_class_train <- torch$max(p_train$data, 1L)\n",
    "pred_class_val   <- torch$max(p_val$data, 1L)"
   ]
  },
  {
   "cell_type": "markdown",
   "metadata": {},
   "source": [
    "### 1. confusion matrix"
   ]
  },
  {
   "cell_type": "code",
   "execution_count": 423,
   "metadata": {},
   "outputs": [
    {
     "data": {
      "text/plain": [
       "   \n",
       "     0  1  2\n",
       "  0 41  0  0\n",
       "  1  0 28  0\n",
       "  2  0  8 43"
      ]
     },
     "metadata": {},
     "output_type": "display_data"
    }
   ],
   "source": [
    "table(pred_class_train[[2]]$numpy(), y_train$numpy())"
   ]
  },
  {
   "cell_type": "code",
   "execution_count": 424,
   "metadata": {},
   "outputs": [
    {
     "data": {
      "text/plain": [
       "   \n",
       "     0  1  2\n",
       "  0  9  0  0\n",
       "  1  0 10  0\n",
       "  2  0  4  7"
      ]
     },
     "metadata": {},
     "output_type": "display_data"
    }
   ],
   "source": [
    "table(pred_class_val[[2]]$numpy(), y_val$numpy())"
   ]
  },
  {
   "cell_type": "markdown",
   "metadata": {},
   "source": [
    "### 2. cross entropy\n",
    "Please see above for training, validation loss"
   ]
  },
  {
   "cell_type": "markdown",
   "metadata": {},
   "source": [
    "### 3. micro vs. macro F1\n",
    "### 4. ROC \n",
    "### 5. Lift, Gain?\n",
    "### 6. Calibration, K-S ?"
   ]
  },
  {
   "cell_type": "markdown",
   "metadata": {},
   "source": [
    "### 7. dimension reduction\n",
    "Principal components or t-sne, project multi class into two, hence easier to plot them out and colour by label, to see how each group separate from each other.\n",
    "From below, could see both PCA and tsne works well in this situation."
   ]
  },
  {
   "cell_type": "code",
   "execution_count": 445,
   "metadata": {},
   "outputs": [],
   "source": [
    "result_train <- as.data.frame(cbind(p_train$data$numpy(), y_train$data$numpy(), pred_class_train[[2]]$data$numpy()))"
   ]
  },
  {
   "cell_type": "code",
   "execution_count": 448,
   "metadata": {},
   "outputs": [],
   "source": [
    "colnames(result_train) <- c(\"p1\", \"p2\", \"p3\", \"label\", \"pred\")"
   ]
  },
  {
   "cell_type": "code",
   "execution_count": 449,
   "metadata": {},
   "outputs": [
    {
     "data": {
      "text/html": [
       "<table>\n",
       "<thead><tr><th scope=col>p1</th><th scope=col>p2</th><th scope=col>p3</th><th scope=col>label</th><th scope=col>pred</th></tr></thead>\n",
       "<tbody>\n",
       "\t<tr><td>0.9421884   </td><td>0.05692599  </td><td>0.0008856279</td><td>0           </td><td>0           </td></tr>\n",
       "\t<tr><td>0.9032198   </td><td>0.09449765  </td><td>0.0022825063</td><td>0           </td><td>0           </td></tr>\n",
       "\t<tr><td>0.9257674   </td><td>0.07277658  </td><td>0.0014560712</td><td>0           </td><td>0           </td></tr>\n",
       "\t<tr><td>0.9025694   </td><td>0.09493569  </td><td>0.0024949568</td><td>0           </td><td>0           </td></tr>\n",
       "\t<tr><td>0.9473773   </td><td>0.05185671  </td><td>0.0007659904</td><td>0           </td><td>0           </td></tr>\n",
       "\t<tr><td>0.9398077   </td><td>0.05920563  </td><td>0.0009866365</td><td>0           </td><td>0           </td></tr>\n",
       "</tbody>\n",
       "</table>\n"
      ],
      "text/latex": [
       "\\begin{tabular}{r|lllll}\n",
       " p1 & p2 & p3 & label & pred\\\\\n",
       "\\hline\n",
       "\t 0.9421884    & 0.05692599   & 0.0008856279 & 0            & 0           \\\\\n",
       "\t 0.9032198    & 0.09449765   & 0.0022825063 & 0            & 0           \\\\\n",
       "\t 0.9257674    & 0.07277658   & 0.0014560712 & 0            & 0           \\\\\n",
       "\t 0.9025694    & 0.09493569   & 0.0024949568 & 0            & 0           \\\\\n",
       "\t 0.9473773    & 0.05185671   & 0.0007659904 & 0            & 0           \\\\\n",
       "\t 0.9398077    & 0.05920563   & 0.0009866365 & 0            & 0           \\\\\n",
       "\\end{tabular}\n"
      ],
      "text/markdown": [
       "\n",
       "p1 | p2 | p3 | label | pred | \n",
       "|---|---|---|---|---|---|\n",
       "| 0.9421884    | 0.05692599   | 0.0008856279 | 0            | 0            | \n",
       "| 0.9032198    | 0.09449765   | 0.0022825063 | 0            | 0            | \n",
       "| 0.9257674    | 0.07277658   | 0.0014560712 | 0            | 0            | \n",
       "| 0.9025694    | 0.09493569   | 0.0024949568 | 0            | 0            | \n",
       "| 0.9473773    | 0.05185671   | 0.0007659904 | 0            | 0            | \n",
       "| 0.9398077    | 0.05920563   | 0.0009866365 | 0            | 0            | \n",
       "\n",
       "\n"
      ],
      "text/plain": [
       "  p1        p2         p3           label pred\n",
       "1 0.9421884 0.05692599 0.0008856279 0     0   \n",
       "2 0.9032198 0.09449765 0.0022825063 0     0   \n",
       "3 0.9257674 0.07277658 0.0014560712 0     0   \n",
       "4 0.9025694 0.09493569 0.0024949568 0     0   \n",
       "5 0.9473773 0.05185671 0.0007659904 0     0   \n",
       "6 0.9398077 0.05920563 0.0009866365 0     0   "
      ]
     },
     "metadata": {},
     "output_type": "display_data"
    }
   ],
   "source": [
    "head(result_train)"
   ]
  },
  {
   "cell_type": "code",
   "execution_count": 451,
   "metadata": {},
   "outputs": [],
   "source": [
    "trained.pca <- prcomp(result_train[, 1:3])"
   ]
  },
  {
   "cell_type": "code",
   "execution_count": 452,
   "metadata": {},
   "outputs": [
    {
     "data": {
      "text/plain": [
       "Importance of components:\n",
       "                          PC1    PC2       PC3\n",
       "Standard deviation     0.5307 0.1831 1.322e-08\n",
       "Proportion of Variance 0.8936 0.1064 0.000e+00\n",
       "Cumulative Proportion  0.8936 1.0000 1.000e+00"
      ]
     },
     "metadata": {},
     "output_type": "display_data"
    }
   ],
   "source": [
    "summary(trained.pca)"
   ]
  },
  {
   "cell_type": "code",
   "execution_count": 462,
   "metadata": {},
   "outputs": [],
   "source": [
    "# add PCA results in\n",
    "result_train <- cbind(result_train, trained.pca$x)"
   ]
  },
  {
   "cell_type": "code",
   "execution_count": 463,
   "metadata": {},
   "outputs": [
    {
     "data": {
      "text/html": [
       "<table>\n",
       "<thead><tr><th scope=col>p1</th><th scope=col>p2</th><th scope=col>p3</th><th scope=col>label</th><th scope=col>pred</th><th scope=col>PC1</th><th scope=col>PC2</th><th scope=col>PC3</th></tr></thead>\n",
       "<tbody>\n",
       "\t<tr><td>0.9421884    </td><td>0.05692599   </td><td>0.0008856279 </td><td>0            </td><td>0            </td><td>-0.7325754   </td><td>-0.06376726  </td><td> 1.595764e-09</td></tr>\n",
       "\t<tr><td>0.9032198    </td><td>0.09449765   </td><td>0.0022825063 </td><td>0            </td><td>0            </td><td>-0.6934326   </td><td>-0.02635110  </td><td> 1.533778e-08</td></tr>\n",
       "\t<tr><td>0.9257674    </td><td>0.07277658   </td><td>0.0014560712 </td><td>0            </td><td>0            </td><td>-0.7160879   </td><td>-0.04797561  </td><td>-5.209528e-09</td></tr>\n",
       "\t<tr><td>0.9025694    </td><td>0.09493569   </td><td>0.0024949568 </td><td>0            </td><td>0            </td><td>-0.6927077   </td><td>-0.02598426  </td><td> 4.046881e-09</td></tr>\n",
       "\t<tr><td>0.9473773    </td><td>0.05185671   </td><td>0.0007659904 </td><td>0            </td><td>0            </td><td>-0.7377625   </td><td>-0.06883990  </td><td>-1.362159e-08</td></tr>\n",
       "\t<tr><td>0.9398077    </td><td>0.05920563   </td><td>0.0009866365 </td><td>0            </td><td>0            </td><td>-0.7301782   </td><td>-0.06150280  </td><td> 1.602476e-08</td></tr>\n",
       "</tbody>\n",
       "</table>\n"
      ],
      "text/latex": [
       "\\begin{tabular}{r|llllllll}\n",
       " p1 & p2 & p3 & label & pred & PC1 & PC2 & PC3\\\\\n",
       "\\hline\n",
       "\t 0.9421884     & 0.05692599    & 0.0008856279  & 0             & 0             & -0.7325754    & -0.06376726   &  1.595764e-09\\\\\n",
       "\t 0.9032198     & 0.09449765    & 0.0022825063  & 0             & 0             & -0.6934326    & -0.02635110   &  1.533778e-08\\\\\n",
       "\t 0.9257674     & 0.07277658    & 0.0014560712  & 0             & 0             & -0.7160879    & -0.04797561   & -5.209528e-09\\\\\n",
       "\t 0.9025694     & 0.09493569    & 0.0024949568  & 0             & 0             & -0.6927077    & -0.02598426   &  4.046881e-09\\\\\n",
       "\t 0.9473773     & 0.05185671    & 0.0007659904  & 0             & 0             & -0.7377625    & -0.06883990   & -1.362159e-08\\\\\n",
       "\t 0.9398077     & 0.05920563    & 0.0009866365  & 0             & 0             & -0.7301782    & -0.06150280   &  1.602476e-08\\\\\n",
       "\\end{tabular}\n"
      ],
      "text/markdown": [
       "\n",
       "p1 | p2 | p3 | label | pred | PC1 | PC2 | PC3 | \n",
       "|---|---|---|---|---|---|\n",
       "| 0.9421884     | 0.05692599    | 0.0008856279  | 0             | 0             | -0.7325754    | -0.06376726   |  1.595764e-09 | \n",
       "| 0.9032198     | 0.09449765    | 0.0022825063  | 0             | 0             | -0.6934326    | -0.02635110   |  1.533778e-08 | \n",
       "| 0.9257674     | 0.07277658    | 0.0014560712  | 0             | 0             | -0.7160879    | -0.04797561   | -5.209528e-09 | \n",
       "| 0.9025694     | 0.09493569    | 0.0024949568  | 0             | 0             | -0.6927077    | -0.02598426   |  4.046881e-09 | \n",
       "| 0.9473773     | 0.05185671    | 0.0007659904  | 0             | 0             | -0.7377625    | -0.06883990   | -1.362159e-08 | \n",
       "| 0.9398077     | 0.05920563    | 0.0009866365  | 0             | 0             | -0.7301782    | -0.06150280   |  1.602476e-08 | \n",
       "\n",
       "\n"
      ],
      "text/plain": [
       "  p1        p2         p3           label pred PC1        PC2        \n",
       "1 0.9421884 0.05692599 0.0008856279 0     0    -0.7325754 -0.06376726\n",
       "2 0.9032198 0.09449765 0.0022825063 0     0    -0.6934326 -0.02635110\n",
       "3 0.9257674 0.07277658 0.0014560712 0     0    -0.7160879 -0.04797561\n",
       "4 0.9025694 0.09493569 0.0024949568 0     0    -0.6927077 -0.02598426\n",
       "5 0.9473773 0.05185671 0.0007659904 0     0    -0.7377625 -0.06883990\n",
       "6 0.9398077 0.05920563 0.0009866365 0     0    -0.7301782 -0.06150280\n",
       "  PC3          \n",
       "1  1.595764e-09\n",
       "2  1.533778e-08\n",
       "3 -5.209528e-09\n",
       "4  4.046881e-09\n",
       "5 -1.362159e-08\n",
       "6  1.602476e-08"
      ]
     },
     "metadata": {},
     "output_type": "display_data"
    }
   ],
   "source": [
    "head(result_train)"
   ]
  },
  {
   "cell_type": "code",
   "execution_count": 518,
   "metadata": {},
   "outputs": [
    {
     "data": {
      "image/png": "[encoded data removed]",
      "text/plain": [
       "plot without title"
      ]
     },
     "metadata": {},
     "output_type": "display_data"
    }
   ],
   "source": [
    "plot(PC1~PC2, data=result_train, col=(label+1), pch=label)"
   ]
  },
  {
   "cell_type": "code",
   "execution_count": 468,
   "metadata": {},
   "outputs": [],
   "source": [
    "library(Rtsne)"
   ]
  },
  {
   "cell_type": "code",
   "execution_count": 473,
   "metadata": {},
   "outputs": [],
   "source": [
    "trained.tsne <- Rtsne(result_train[, 1:3], check_duplicates=F)"
   ]
  },
  {
   "cell_type": "code",
   "execution_count": 478,
   "metadata": {},
   "outputs": [],
   "source": [
    "# add tsne result in\n",
    "result_train <- cbind(result_train, trained.tsne$Y)"
   ]
  },
  {
   "cell_type": "code",
   "execution_count": 484,
   "metadata": {},
   "outputs": [],
   "source": [
    "colnames(result_train) <- c(\"p1\", \"p2\", \"p3\", \"label\", \"pred\", \"PC1\", \"PC2\", \"PC3\", \"tsne1\", \"tsne2\")"
   ]
  },
  {
   "cell_type": "code",
   "execution_count": 485,
   "metadata": {},
   "outputs": [
    {
     "data": {
      "text/html": [
       "<table>\n",
       "<thead><tr><th scope=col>p1</th><th scope=col>p2</th><th scope=col>p3</th><th scope=col>label</th><th scope=col>pred</th><th scope=col>PC1</th><th scope=col>PC2</th><th scope=col>PC3</th><th scope=col>tsne1</th><th scope=col>tsne2</th></tr></thead>\n",
       "<tbody>\n",
       "\t<tr><td>0.9421884    </td><td>0.05692599   </td><td>0.0008856279 </td><td>0            </td><td>0            </td><td>-0.7325754   </td><td>-0.06376726  </td><td> 1.595764e-09</td><td>20.07669     </td><td>-11.86575    </td></tr>\n",
       "\t<tr><td>0.9032198    </td><td>0.09449765   </td><td>0.0022825063 </td><td>0            </td><td>0            </td><td>-0.6934326   </td><td>-0.02635110  </td><td> 1.533778e-08</td><td>17.83134     </td><td>-11.47798    </td></tr>\n",
       "\t<tr><td>0.9257674    </td><td>0.07277658   </td><td>0.0014560712 </td><td>0            </td><td>0            </td><td>-0.7160879   </td><td>-0.04797561  </td><td>-5.209528e-09</td><td>19.10942     </td><td>-11.82753    </td></tr>\n",
       "\t<tr><td>0.9025694    </td><td>0.09493569   </td><td>0.0024949568 </td><td>0            </td><td>0            </td><td>-0.6927077   </td><td>-0.02598426  </td><td> 4.046881e-09</td><td>17.82928     </td><td>-11.43438    </td></tr>\n",
       "\t<tr><td>0.9473773    </td><td>0.05185671   </td><td>0.0007659904 </td><td>0            </td><td>0            </td><td>-0.7377625   </td><td>-0.06883990  </td><td>-1.362159e-08</td><td>20.34388     </td><td>-11.81030    </td></tr>\n",
       "\t<tr><td>0.9398077    </td><td>0.05920563   </td><td>0.0009866365 </td><td>0            </td><td>0            </td><td>-0.7301782   </td><td>-0.06150280  </td><td> 1.602476e-08</td><td>19.93172     </td><td>-11.92846    </td></tr>\n",
       "</tbody>\n",
       "</table>\n"
      ],
      "text/latex": [
       "\\begin{tabular}{r|llllllllll}\n",
       " p1 & p2 & p3 & label & pred & PC1 & PC2 & PC3 & tsne1 & tsne2\\\\\n",
       "\\hline\n",
       "\t 0.9421884     & 0.05692599    & 0.0008856279  & 0             & 0             & -0.7325754    & -0.06376726   &  1.595764e-09 & 20.07669      & -11.86575    \\\\\n",
       "\t 0.9032198     & 0.09449765    & 0.0022825063  & 0             & 0             & -0.6934326    & -0.02635110   &  1.533778e-08 & 17.83134      & -11.47798    \\\\\n",
       "\t 0.9257674     & 0.07277658    & 0.0014560712  & 0             & 0             & -0.7160879    & -0.04797561   & -5.209528e-09 & 19.10942      & -11.82753    \\\\\n",
       "\t 0.9025694     & 0.09493569    & 0.0024949568  & 0             & 0             & -0.6927077    & -0.02598426   &  4.046881e-09 & 17.82928      & -11.43438    \\\\\n",
       "\t 0.9473773     & 0.05185671    & 0.0007659904  & 0             & 0             & -0.7377625    & -0.06883990   & -1.362159e-08 & 20.34388      & -11.81030    \\\\\n",
       "\t 0.9398077     & 0.05920563    & 0.0009866365  & 0             & 0             & -0.7301782    & -0.06150280   &  1.602476e-08 & 19.93172      & -11.92846    \\\\\n",
       "\\end{tabular}\n"
      ],
      "text/markdown": [
       "\n",
       "p1 | p2 | p3 | label | pred | PC1 | PC2 | PC3 | tsne1 | tsne2 | \n",
       "|---|---|---|---|---|---|\n",
       "| 0.9421884     | 0.05692599    | 0.0008856279  | 0             | 0             | -0.7325754    | -0.06376726   |  1.595764e-09 | 20.07669      | -11.86575     | \n",
       "| 0.9032198     | 0.09449765    | 0.0022825063  | 0             | 0             | -0.6934326    | -0.02635110   |  1.533778e-08 | 17.83134      | -11.47798     | \n",
       "| 0.9257674     | 0.07277658    | 0.0014560712  | 0             | 0             | -0.7160879    | -0.04797561   | -5.209528e-09 | 19.10942      | -11.82753     | \n",
       "| 0.9025694     | 0.09493569    | 0.0024949568  | 0             | 0             | -0.6927077    | -0.02598426   |  4.046881e-09 | 17.82928      | -11.43438     | \n",
       "| 0.9473773     | 0.05185671    | 0.0007659904  | 0             | 0             | -0.7377625    | -0.06883990   | -1.362159e-08 | 20.34388      | -11.81030     | \n",
       "| 0.9398077     | 0.05920563    | 0.0009866365  | 0             | 0             | -0.7301782    | -0.06150280   |  1.602476e-08 | 19.93172      | -11.92846     | \n",
       "\n",
       "\n"
      ],
      "text/plain": [
       "  p1        p2         p3           label pred PC1        PC2        \n",
       "1 0.9421884 0.05692599 0.0008856279 0     0    -0.7325754 -0.06376726\n",
       "2 0.9032198 0.09449765 0.0022825063 0     0    -0.6934326 -0.02635110\n",
       "3 0.9257674 0.07277658 0.0014560712 0     0    -0.7160879 -0.04797561\n",
       "4 0.9025694 0.09493569 0.0024949568 0     0    -0.6927077 -0.02598426\n",
       "5 0.9473773 0.05185671 0.0007659904 0     0    -0.7377625 -0.06883990\n",
       "6 0.9398077 0.05920563 0.0009866365 0     0    -0.7301782 -0.06150280\n",
       "  PC3           tsne1    tsne2    \n",
       "1  1.595764e-09 20.07669 -11.86575\n",
       "2  1.533778e-08 17.83134 -11.47798\n",
       "3 -5.209528e-09 19.10942 -11.82753\n",
       "4  4.046881e-09 17.82928 -11.43438\n",
       "5 -1.362159e-08 20.34388 -11.81030\n",
       "6  1.602476e-08 19.93172 -11.92846"
      ]
     },
     "metadata": {},
     "output_type": "display_data"
    }
   ],
   "source": [
    "head(result_train)"
   ]
  },
  {
   "cell_type": "code",
   "execution_count": 517,
   "metadata": {},
   "outputs": [
    {
     "data": {
      "image/png": "[encoded data removed]",
      "text/plain": [
       "plot without title"
      ]
     },
     "metadata": {},
     "output_type": "display_data"
    }
   ],
   "source": [
    "options(repr.plot.width = 4, repr.plot.height = 3)\n",
    "plot(tsne1~tsne2, data=result_train,  col=(label+1), pch=label)\n"
   ]
  },
  {
   "cell_type": "code",
   "execution_count": 493,
   "metadata": {},
   "outputs": [],
   "source": [
    "?legend"
   ]
  },
  {
   "cell_type": "code",
   "execution_count": null,
   "metadata": {},
   "outputs": [],
   "source": []
  }
 ],
 "metadata": {
  "kernelspec": {
   "display_name": "R",
   "language": "R",
   "name": "ir"
  },
  "language_info": {
   "codemirror_mode": "r",
   "file_extension": ".r",
   "mimetype": "text/x-r-source",
   "name": "R",
   "pygments_lexer": "r",
   "version": "3.3.3"
  }
 },
 "nbformat": 4,
 "nbformat_minor": 2
}
