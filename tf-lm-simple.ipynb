{
 "cells": [
  {
   "cell_type": "code",
   "execution_count": 9,
   "metadata": {
    "collapsed": false
   },
   "outputs": [
    {
     "name": "stdout",
     "output_type": "stream",
     "text": [
      "20 - -0.06632242 0.3868532 \n",
      "40 - 0.04872266 0.3267769 \n",
      "60 - 0.08419117 0.3082553 \n",
      "80 - 0.09512613 0.3025451 \n",
      "100 - 0.09849739 0.3007846 \n",
      "120 - 0.09953675 0.3002419 \n",
      "140 - 0.09985717 0.3000746 \n",
      "160 - 0.09995595 0.300023 \n",
      "180 - 0.09998643 0.3000071 \n",
      "200 - 0.09999582 0.3000022 \n"
     ]
    }
   ],
   "source": [
    "library(tensorflow)\n",
    "\n",
    "# Create 100 phony x, y data points, y = x * 0.1 + 0.3\n",
    "x_data <- runif(100, min=0, max=1)\n",
    "y_data <- x_data * 0.1 + 0.3\n",
    "\n",
    "# Try to find values for W and b that compute y_data = W * x_data + b\n",
    "# (We know that W should be 0.1 and b 0.3, but TensorFlow will\n",
    "# figure that out for us.)\n",
    "W <- tf$Variable(tf$random_uniform(shape(1L), -1.0, 1.0))\n",
    "b <- tf$Variable(tf$zeros(shape(1L)))\n",
    "y <- W * x_data + b\n",
    "\n",
    "# Minimize the mean squared errors.\n",
    "loss <- tf$reduce_mean((y - y_data) ^ 2)\n",
    "optimizer <- tf$train$GradientDescentOptimizer(0.5)\n",
    "train <- optimizer$minimize(loss)\n",
    "\n",
    "# Launch the graph and initialize the variables.\n",
    "sess = tf$Session()\n",
    "sess$run(tf$global_variables_initializer())\n",
    "\n",
    "# Fit the line (Learns best fit is W: 0.1, b: 0.3)\n",
    "for (step in 1:201) {\n",
    "  sess$run(train)\n",
    "  if (step %% 20 == 0)\n",
    "    cat(step, \"-\", sess$run(W), sess$run(b), \"\\n\")\n",
    "}"
   ]
  },
  {
   "cell_type": "code",
   "execution_count": 10,
   "metadata": {
    "collapsed": false
   },
   "outputs": [
    {
     "data": {
      "text/plain": [
       "TensorFlow v1.3.0 (/anaconda/envs/py35/lib/python3.5/site-packages/tensorflow)\n",
       "Python v3.5 (/anaconda/envs/py35/bin/python)"
      ]
     },
     "metadata": {},
     "output_type": "display_data"
    }
   ],
   "source": [
    "tf_config()"
   ]
  },
  {
   "cell_type": "code",
   "execution_count": 11,
   "metadata": {
    "collapsed": false
   },
   "outputs": [
    {
     "data": {
      "text/plain": [
       "[1] ‘1.3’"
      ]
     },
     "metadata": {},
     "output_type": "display_data"
    }
   ],
   "source": [
    "tf_version()"
   ]
  },
  {
   "cell_type": "code",
   "execution_count": null,
   "metadata": {
    "collapsed": true
   },
   "outputs": [],
   "source": []
  }
 ],
 "metadata": {
  "kernelspec": {
   "display_name": "R",
   "language": "R",
   "name": "ir"
  },
  "language_info": {
   "codemirror_mode": "r",
   "file_extension": ".r",
   "mimetype": "text/x-r-source",
   "name": "R",
   "pygments_lexer": "r",
   "version": "3.3.3"
  }
 },
 "nbformat": 4,
 "nbformat_minor": 2
}
