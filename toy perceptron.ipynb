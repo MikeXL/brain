{
 "cells": [
  {
   "cell_type": "markdown",
   "metadata": {},
   "source": [
    "### toy perceptron"
   ]
  },
  {
   "cell_type": "markdown",
   "metadata": {},
   "source": [
    "the idea of nn is quite simple and straightforward\n",
    "taking the input, excite neurons and produce adenosine\n",
    "then it comes down to reduce noises (optimization) \n",
    "and the speed (optimization again for network converge)\n",
    "most of the business problems does not require CNN or RNN\n",
    "rather solved by single or double hidden layer of\n",
    "vanilla neural networks\n",
    "\n",
    "```\n",
    "y = wx + b + E\n",
    "```"
   ]
  },
  {
   "cell_type": "code",
   "execution_count": 385,
   "metadata": {},
   "outputs": [],
   "source": [
    "x <- as.matrix(unname(head(iris[,1:2], 100)), nrow=100, ncol=2)\n",
    "x <- scale(x)"
   ]
  },
  {
   "cell_type": "code",
   "execution_count": 386,
   "metadata": {},
   "outputs": [],
   "source": [
    "y <- as.matrix(append(rep(1, 50), rep(-1, 50)), nrow=100, ncol=1)"
   ]
  },
  {
   "cell_type": "code",
   "execution_count": 387,
   "metadata": {},
   "outputs": [],
   "source": [
    "\n",
    "  EPOCH  <- 100      \n",
    "  n.obs  <- nrow(x)                                                                                                  \n",
    "  n.parm <- ncol(x)                                               \n",
    "\n",
    "  alpha  <- .01                                                  \n",
    "  y.hat  <- rep(0, n.obs)                                      \n",
    "  prob   <- rep(0, n.obs)                                       \n",
    "  loss   <- rep(0, n.iter)                                      \n",
    "  w      <- as.matrix(rnorm(n.parm) * .01, nrow=n.parm)\n",
    "  b      <- rnorm(1)*.01                                      \n",
    "                                     \n",
    "                                                                \n",
    "  eps    <- 1e-15                                               "
   ]
  },
  {
   "cell_type": "code",
   "execution_count": 388,
   "metadata": {},
   "outputs": [],
   "source": [
    "for(e in 1:EPOCH){ \n",
    "      p     <- tanh(x %*% w + b)\n",
    "                                                                 \n",
    "      prob  <- ifelse(p>0, p, 1+p)                              \n",
    "      prob  <- pmin(pmax(prob, 1e-15), 1-1e-15)              \n",
    "      y.hat <- sign(p)                                       \n",
    "  \n",
    "     eta   <- y - y.hat                                   \n",
    "     loss[e] <- -(mean(y * log(prob) + (1 - y) * log(1 - prob))) \n",
    "    \n",
    "    for(i in 1:n.parm){\n",
    "      w[i] = w[i] + alpha * x[,i] %*% eta\n",
    "      w[i] = w[i] + alpha * x[,i] %*% eta\n",
    "    }\n",
    "    b = b + sum(alpha * eta* b)\n",
    "    \n",
    "  }                                                 "
   ]
  },
  {
   "cell_type": "code",
   "execution_count": 389,
   "metadata": {},
   "outputs": [
    {
     "name": "stdout",
     "output_type": "stream",
     "text": [
      "Results for last iteration: 2 \n",
      "w1 =  -1.854808 \n",
      "w2 =  1.636979 \n",
      "bias =  -0.001745041 \n",
      "Misclassification rate: 0 \n"
     ]
    }
   ],
   "source": [
    "  cat(\"Results for last iteration:\", i, \"\\n\")                       # show 'n tell\n",
    "  cat(\"w1 = \", w[1], \"\\n\")                                          # weights of last iteration      \n",
    "  cat(\"w2 = \", w[2], \"\\n\")                                          #\n",
    "  cat(\"bias = \", b, \"\\n\")                                           # bias of last iteration\n",
    "  cat(\"Misclassification rate:\", sum(y.hat != y)/n.obs, \"\\n\")       # misclassification rate of last iteration"
   ]
  },
  {
   "cell_type": "code",
   "execution_count": 390,
   "metadata": {},
   "outputs": [
    {
     "data": {
      "text/plain": [
       "     y\n",
       "y.hat -1  1\n",
       "   -1 50  0\n",
       "   1   0 50"
      ]
     },
     "metadata": {},
     "output_type": "display_data"
    },
    {
     "data": {
      "image/png": "[encoded data removed]",
      "text/plain": [
       "Plot with title \"confusion matrix\""
      ]
     },
     "metadata": {},
     "output_type": "display_data"
    }
   ],
   "source": [
    "  table(y.hat, y)\n",
    "  plot(table(y, y.hat), color=\"#66cc00\", main=\"confusion matrix\")   # confusion matrix of last iteration"
   ]
  },
  {
   "cell_type": "code",
   "execution_count": 391,
   "metadata": {},
   "outputs": [
    {
     "data": {
      "image/png": "[encoded data removed]",
      "text/plain": [
       "plot without title"
      ]
     },
     "metadata": {},
     "output_type": "display_data"
    }
   ],
   "source": [
    "  plot(loss, xlab=\"# iteration\", ylab=\"log loss\", type=\"l\")         # log loss plot to see convergence "
   ]
  },
  {
   "cell_type": "code",
   "execution_count": null,
   "metadata": {},
   "outputs": [],
   "source": []
  }
 ],
 "metadata": {
  "kernelspec": {
   "display_name": "R",
   "language": "R",
   "name": "ir"
  },
  "language_info": {
   "codemirror_mode": "r",
   "file_extension": ".r",
   "mimetype": "text/x-r-source",
   "name": "R",
   "pygments_lexer": "r",
   "version": "3.3.3"
  }
 },
 "nbformat": 4,
 "nbformat_minor": 2
}
